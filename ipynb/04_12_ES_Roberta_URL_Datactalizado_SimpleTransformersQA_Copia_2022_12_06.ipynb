{
  "nbformat": 4,
  "nbformat_minor": 0,
  "metadata": {
    "colab": {
      "provenance": [],
      "private_outputs": true
    },
    "kernelspec": {
      "name": "python3",
      "display_name": "Python 3"
    },
    "language_info": {
      "name": "python"
    },
    "accelerator": "GPU",
    "gpuClass": "standard"
  },
  "cells": [
    {
      "cell_type": "markdown",
      "source": [
        "https://simpletransformers.ai/docs/qa-minimal-start/ (Explicativo de web)\n"
      ],
      "metadata": {
        "id": "87TEJpP9ZEn_"
      }
    },
    {
      "cell_type": "markdown",
      "source": [],
      "metadata": {
        "id": "bMljOPrRwRtg"
      }
    },
    {
      "cell_type": "code",
      "execution_count": null,
      "metadata": {
        "id": "ksnzQFp6wLtR"
      },
      "outputs": [],
      "source": [
        "!pip install -Uq wandb"
      ]
    },
    {
      "cell_type": "code",
      "source": [
        "import wandb\n",
        "\n",
        "# wandb.login()\n",
        "wandb_project = \"SimpleTransformers-QA\""
      ],
      "metadata": {
        "id": "oFkuUIhKwYmH"
      },
      "execution_count": null,
      "outputs": []
    },
    {
      "cell_type": "code",
      "source": [
        "%%capture\n",
        "!pip install simpletransformers"
      ],
      "metadata": {
        "id": "RmamGZr8wave"
      },
      "execution_count": null,
      "outputs": []
    },
    {
      "cell_type": "code",
      "source": [
        "import os\n",
        "import requests\n",
        "import json"
      ],
      "metadata": {
        "id": "7RCw_GfeFaOU"
      },
      "execution_count": null,
      "outputs": []
    },
    {
      "cell_type": "code",
      "source": [
        "import logging\n",
        "\n",
        "from simpletransformers.question_answering import QuestionAnsweringModel, QuestionAnsweringArgs"
      ],
      "metadata": {
        "id": "HDWcaDdFwwtv"
      },
      "execution_count": null,
      "outputs": []
    },
    {
      "cell_type": "code",
      "source": [
        "logging.basicConfig(level=logging.INFO)\n",
        "transformers_logger = logging.getLogger(\"transformers\")\n",
        "transformers_logger.setLevel(logging.WARNING)"
      ],
      "metadata": {
        "id": "2hV9_MSNhWBj"
      },
      "execution_count": null,
      "outputs": []
    },
    {
      "cell_type": "code",
      "source": [
        "url = \"https://raw.githubusercontent.com/josuemzx/Chatbot-para-refugiados/main/data/Dataset%20propio/data.json\"\n",
        "data = json.loads(requests.get(url).text)\n",
        "data = [item for topic in data['data'] for item in topic['paragraphs'] ]\n",
        "   \n",
        "#Dataset acutalizado"
      ],
      "metadata": {
        "id": "2plkfZ6sPh2F"
      },
      "execution_count": null,
      "outputs": []
    },
    {
      "cell_type": "code",
      "source": [
        "data"
      ],
      "metadata": {
        "id": "UAr2LXJyu4Xg"
      },
      "execution_count": null,
      "outputs": []
    },
    {
      "cell_type": "code",
      "source": [
        "# Ejemplo de acceso a todos los registros del dataset:\n",
        "data[0]['qas']"
      ],
      "metadata": {
        "id": "ckU2-oVTv40j"
      },
      "execution_count": null,
      "outputs": []
    },
    {
      "cell_type": "code",
      "source": [
        "# Ejemplo de acceso a una:\n",
        "data[0]['qas'][0]['answers'][0]['text']"
      ],
      "metadata": {
        "id": "Qoa4Hjxful7C"
      },
      "execution_count": null,
      "outputs": []
    },
    {
      "cell_type": "code",
      "source": [
        "# Ejemplo de acceso a un contexto:\n",
        "data[0]['context']"
      ],
      "metadata": {
        "id": "fzCB1S6MzPcG"
      },
      "execution_count": null,
      "outputs": []
    },
    {
      "cell_type": "code",
      "source": [
        "# Incluímos train_test_split\n",
        "\n",
        "from sklearn.model_selection import train_test_split\n",
        "\n",
        "y = data[0]['qas'][0]['answers'] # REVISAR (Consulta S): El tamaño de \"y\" es \"1\", entiendo que habría que asignar a \"y\" todos los valores de \"answers\" \n",
        "X = data[0]['context']\n",
        "\n",
        "print(\"Tamaño 'y': \",len(y))\n",
        "print(\"Tamaño 'X': \",len(X))\n"
      ],
      "metadata": {
        "id": "jBMfKtw-k3Uf"
      },
      "execution_count": null,
      "outputs": []
    },
    {
      "cell_type": "code",
      "source": [
        "\n",
        "X_train, y_train, X_test, y_test = train_test_split(X, y)\n",
        "\n",
        "print('===== Train data =====')\n",
        "print(X_train.shape)\n",
        "print(X_train.head(2))\n",
        "print('===== Test data =====')\n",
        "print(X_test.shape)\n",
        "print(X_test.head(2))"
      ],
      "metadata": {
        "id": "8TExPbkU8Eym"
      },
      "execution_count": null,
      "outputs": []
    },
    {
      "cell_type": "code",
      "source": [
        "train_data[0]"
      ],
      "metadata": {
        "id": "ejRxHifBgyI8"
      },
      "execution_count": null,
      "outputs": []
    },
    {
      "cell_type": "code",
      "source": [
        "url = \"https://raw.githubusercontent.com/josuemzx/Chatbot-para-refugiados/main/data/Dataset%20propio/test_data.json\"\n",
        "test_data = json.loads(requests.get(url).text)\n",
        "eval_data = [item for topic in test_data['test_data'] for item in topic['paragraphs'] ]"
      ],
      "metadata": {
        "id": "6Fn_emMhJf2c"
      },
      "execution_count": null,
      "outputs": []
    },
    {
      "cell_type": "code",
      "source": [
        "eval_data[0]"
      ],
      "metadata": {
        "id": "2G2wWxJYCaVc"
      },
      "execution_count": null,
      "outputs": []
    },
    {
      "cell_type": "code",
      "source": [
        "# Configure the model\n",
        "model_args = QuestionAnsweringArgs(output_dir=\" train4\")\n",
        "model_args.train_batch_size = 16\n",
        "model_args.evaluate_during_training = True\n",
        "\n",
        "model = QuestionAnsweringModel(\n",
        "    \"roberta\", \"IIC/roberta-base-spanish-sqac\" , args=model_args\n",
        ")\n"
      ],
      "metadata": {
        "id": "JA9iUihPxTx4"
      },
      "execution_count": null,
      "outputs": []
    },
    {
      "cell_type": "code",
      "source": [
        "# Train the model\n",
        "model.train_model(train_data, eval_data=train_data)"
      ],
      "metadata": {
        "id": "q0Ab9GFjxay3"
      },
      "execution_count": null,
      "outputs": []
    },
    {
      "cell_type": "code",
      "source": [
        "help(model.train_model)"
      ],
      "metadata": {
        "id": "elOnFSzrkfNx"
      },
      "execution_count": null,
      "outputs": []
    },
    {
      "cell_type": "code",
      "source": [
        "# Evaluate the model\n",
        "result, texts = model.eval_model(eval_data)"
      ],
      "metadata": {
        "id": "iP06A9Z-xcpX"
      },
      "execution_count": null,
      "outputs": []
    },
    {
      "cell_type": "code",
      "source": [
        "# Make predictions with the model\n",
        "to_predict = [\n",
        "    {\n",
        "        \"context\":\" Derecho a solicitar protección internacional.\\n\\n1. Las personas nacionales no comunitarias y las apátridas presentes en territorio español tienen derecho a solicitar protección internacional en España.\\n\\n2. Para su ejercicio, los solicitantes de protección internacional tendrán derecho a asistencia sanitaria y a asistencia jurídica gratuita, que se extenderá a la formalización de la solicitud y a toda la tramitación del procedimiento, y que se prestará en los términos previstos en la legislación española en esta materia, así como derecho a intérprete en los términos del artículo 22 de la Ley Orgánica 4/2000.\\n\\nLa asistencia jurídica referida en el párrafo anterior será preceptiva cuando las solicitudes se formalicen de acuerdo al procedimiento señalado en el artículo 21 de la presente Ley.\\n\\n3. La presentación de la solicitud conllevará la valoración de las circunstancias determinantes del reconocimiento de la condición de refugiado, así como de la concesión de la protección subsidiaria. De este extremo se informará en debida forma al solicitante.\\n\\n4. Toda información relativa al procedimiento, incluido el hecho de la presentación de la solicitud, tendrá carácter confidencial.\",\n",
        "         \n",
        "        \"qas\": [\n",
        "            {\n",
        "                \"question\": \"¿Puedo solicitar traductor?\",\n",
        "                \"id\": \"0\",\n",
        "            }\n",
        "        ],\n",
        "    }\n",
        "]\n",
        "\n",
        "answers, probabilities = model.predict(to_predict)\n",
        "\n",
        "print(answers)"
      ],
      "metadata": {
        "id": "XUgg3_6_xrTS"
      },
      "execution_count": null,
      "outputs": []
    },
    {
      "cell_type": "code",
      "source": [
        "print(answers)"
      ],
      "metadata": {
        "id": "m8ToMS1wMkD9"
      },
      "execution_count": null,
      "outputs": []
    },
    {
      "cell_type": "code",
      "source": [
        "# Make predictions with the model\n",
        "to_predict = [\n",
        "    {\n",
        "        \"context\": \"Las subvenciones concedidas a las ONG para la acogida y la integración de quienes conforman estos colectivos están financiadas con fondos que provienen de los presupuestos de la Secretaría General de Inmigración y Emigración, recibiendo cofinanciación, en algunos programas, del Fondo Social Europeo y del Fondo de Asilo, Migración e Integración.\",\n",
        "        \"qas\": [\n",
        "            {\n",
        "                \"question\": \"donde solicito las subenciones?\",\n",
        "                \"id\": \"0\",\n",
        "            }\n",
        "        ],\n",
        "    }\n",
        "]\n",
        "\n",
        "answers, probabilities = model.predict(to_predict)\n",
        "\n",
        "print(answers)"
      ],
      "metadata": {
        "id": "axtJ0Jh8LxZ3"
      },
      "execution_count": null,
      "outputs": []
    },
    {
      "cell_type": "markdown",
      "source": [
        "Ojo, si ejecuta dos veces da error por los datos guardado"
      ],
      "metadata": {
        "id": "7pn5IWfHr4ed"
      }
    }
  ]
}