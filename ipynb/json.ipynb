{
 "cells": [
  {
   "cell_type": "code",
   "execution_count": 1,
   "id": "eee2f048",
   "metadata": {},
   "outputs": [],
   "source": [
    "import json\n",
    "import requests\n",
    "import random\n",
    "import string"
   ]
  },
  {
   "cell_type": "markdown",
   "id": "e5b4d882",
   "metadata": {},
   "source": [
    "Leemos el fichero json del repositorio"
   ]
  },
  {
   "cell_type": "code",
   "execution_count": 2,
   "id": "03fcee37",
   "metadata": {},
   "outputs": [],
   "source": [
    "url = \"https://raw.githubusercontent.com/josuemzx/Chatbot-para-refugiados/main/data/Dataset%20propio/train_data.json\"\n",
    "train_data = json.loads(requests.get(url).text)"
   ]
  },
  {
   "cell_type": "markdown",
   "id": "77e01852",
   "metadata": {},
   "source": [
    "Añadimos la versión"
   ]
  },
  {
   "cell_type": "code",
   "execution_count": 3,
   "id": "7fe17dd6",
   "metadata": {},
   "outputs": [],
   "source": [
    "train_data['version'] = 'v2.0'"
   ]
  },
  {
   "cell_type": "markdown",
   "id": "b3829014",
   "metadata": {},
   "source": [
    "Añadimos un título aleatorio a cada entrada"
   ]
  },
  {
   "cell_type": "code",
   "execution_count": 4,
   "id": "09454f0b",
   "metadata": {},
   "outputs": [],
   "source": [
    "for entry in train_data['data']:\n",
    "    entry['title'] = ''.join(random.choices(string.ascii_letters, k=6))"
   ]
  },
  {
   "cell_type": "markdown",
   "id": "58b6c66e",
   "metadata": {},
   "source": [
    "A partir de aquí la variable `train_data` tiene el mismo formato que el de Huggingface."
   ]
  },
  {
   "cell_type": "code",
   "execution_count": null,
   "id": "007149dc",
   "metadata": {},
   "outputs": [],
   "source": []
  }
 ],
 "metadata": {
  "kernelspec": {
   "display_name": "Python 3",
   "language": "python",
   "name": "python3"
  },
  "language_info": {
   "codemirror_mode": {
    "name": "ipython",
    "version": 3
   },
   "file_extension": ".py",
   "mimetype": "text/x-python",
   "name": "python",
   "nbconvert_exporter": "python",
   "pygments_lexer": "ipython3",
   "version": "3.10.8"
  }
 },
 "nbformat": 4,
 "nbformat_minor": 5
}
