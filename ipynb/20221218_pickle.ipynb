{
  "nbformat": 4,
  "nbformat_minor": 0,
  "metadata": {
    "colab": {
      "provenance": []
    },
    "kernelspec": {
      "name": "python3",
      "display_name": "Python 3"
    },
    "language_info": {
      "name": "python"
    },
    "accelerator": "GPU",
    "gpuClass": "standard",
    "widgets": {
      "application/vnd.jupyter.widget-state+json": {
        "f16b6b5b0c9b47da8ca51d91700477dc": {
          "model_module": "@jupyter-widgets/controls",
          "model_name": "HBoxModel",
          "model_module_version": "1.5.0",
          "state": {
            "_dom_classes": [],
            "_model_module": "@jupyter-widgets/controls",
            "_model_module_version": "1.5.0",
            "_model_name": "HBoxModel",
            "_view_count": null,
            "_view_module": "@jupyter-widgets/controls",
            "_view_module_version": "1.5.0",
            "_view_name": "HBoxView",
            "box_style": "",
            "children": [
              "IPY_MODEL_5906cef3e66b4378b88c97cf35155bf7",
              "IPY_MODEL_b53f4fac361e44d6adaa2b8c11aaef07",
              "IPY_MODEL_897e4224ec094fcabe54717446b65884"
            ],
            "layout": "IPY_MODEL_b6fe48fbd8df4033afe392aab731d551"
          }
        },
        "5906cef3e66b4378b88c97cf35155bf7": {
          "model_module": "@jupyter-widgets/controls",
          "model_name": "HTMLModel",
          "model_module_version": "1.5.0",
          "state": {
            "_dom_classes": [],
            "_model_module": "@jupyter-widgets/controls",
            "_model_module_version": "1.5.0",
            "_model_name": "HTMLModel",
            "_view_count": null,
            "_view_module": "@jupyter-widgets/controls",
            "_view_module_version": "1.5.0",
            "_view_name": "HTMLView",
            "description": "",
            "description_tooltip": null,
            "layout": "IPY_MODEL_e222fd16eee94b1da6dcb6520931bd01",
            "placeholder": "​",
            "style": "IPY_MODEL_7439c6a5da684c64943d2c726d3da80c",
            "value": "Running Prediction: 100%"
          }
        },
        "b53f4fac361e44d6adaa2b8c11aaef07": {
          "model_module": "@jupyter-widgets/controls",
          "model_name": "FloatProgressModel",
          "model_module_version": "1.5.0",
          "state": {
            "_dom_classes": [],
            "_model_module": "@jupyter-widgets/controls",
            "_model_module_version": "1.5.0",
            "_model_name": "FloatProgressModel",
            "_view_count": null,
            "_view_module": "@jupyter-widgets/controls",
            "_view_module_version": "1.5.0",
            "_view_name": "ProgressView",
            "bar_style": "success",
            "description": "",
            "description_tooltip": null,
            "layout": "IPY_MODEL_a7eb59f7c77544d7a577bdf4536c7989",
            "max": 1,
            "min": 0,
            "orientation": "horizontal",
            "style": "IPY_MODEL_a4a1e858842b45b8832e585c0e0e7382",
            "value": 1
          }
        },
        "897e4224ec094fcabe54717446b65884": {
          "model_module": "@jupyter-widgets/controls",
          "model_name": "HTMLModel",
          "model_module_version": "1.5.0",
          "state": {
            "_dom_classes": [],
            "_model_module": "@jupyter-widgets/controls",
            "_model_module_version": "1.5.0",
            "_model_name": "HTMLModel",
            "_view_count": null,
            "_view_module": "@jupyter-widgets/controls",
            "_view_module_version": "1.5.0",
            "_view_name": "HTMLView",
            "description": "",
            "description_tooltip": null,
            "layout": "IPY_MODEL_235b0d3921624504ac892f2db93d351f",
            "placeholder": "​",
            "style": "IPY_MODEL_f37cc4bfad184a7cb89016b56b46d1d0",
            "value": " 1/1 [00:09&lt;00:00,  9.05s/it]"
          }
        },
        "b6fe48fbd8df4033afe392aab731d551": {
          "model_module": "@jupyter-widgets/base",
          "model_name": "LayoutModel",
          "model_module_version": "1.2.0",
          "state": {
            "_model_module": "@jupyter-widgets/base",
            "_model_module_version": "1.2.0",
            "_model_name": "LayoutModel",
            "_view_count": null,
            "_view_module": "@jupyter-widgets/base",
            "_view_module_version": "1.2.0",
            "_view_name": "LayoutView",
            "align_content": null,
            "align_items": null,
            "align_self": null,
            "border": null,
            "bottom": null,
            "display": null,
            "flex": null,
            "flex_flow": null,
            "grid_area": null,
            "grid_auto_columns": null,
            "grid_auto_flow": null,
            "grid_auto_rows": null,
            "grid_column": null,
            "grid_gap": null,
            "grid_row": null,
            "grid_template_areas": null,
            "grid_template_columns": null,
            "grid_template_rows": null,
            "height": null,
            "justify_content": null,
            "justify_items": null,
            "left": null,
            "margin": null,
            "max_height": null,
            "max_width": null,
            "min_height": null,
            "min_width": null,
            "object_fit": null,
            "object_position": null,
            "order": null,
            "overflow": null,
            "overflow_x": null,
            "overflow_y": null,
            "padding": null,
            "right": null,
            "top": null,
            "visibility": null,
            "width": null
          }
        },
        "e222fd16eee94b1da6dcb6520931bd01": {
          "model_module": "@jupyter-widgets/base",
          "model_name": "LayoutModel",
          "model_module_version": "1.2.0",
          "state": {
            "_model_module": "@jupyter-widgets/base",
            "_model_module_version": "1.2.0",
            "_model_name": "LayoutModel",
            "_view_count": null,
            "_view_module": "@jupyter-widgets/base",
            "_view_module_version": "1.2.0",
            "_view_name": "LayoutView",
            "align_content": null,
            "align_items": null,
            "align_self": null,
            "border": null,
            "bottom": null,
            "display": null,
            "flex": null,
            "flex_flow": null,
            "grid_area": null,
            "grid_auto_columns": null,
            "grid_auto_flow": null,
            "grid_auto_rows": null,
            "grid_column": null,
            "grid_gap": null,
            "grid_row": null,
            "grid_template_areas": null,
            "grid_template_columns": null,
            "grid_template_rows": null,
            "height": null,
            "justify_content": null,
            "justify_items": null,
            "left": null,
            "margin": null,
            "max_height": null,
            "max_width": null,
            "min_height": null,
            "min_width": null,
            "object_fit": null,
            "object_position": null,
            "order": null,
            "overflow": null,
            "overflow_x": null,
            "overflow_y": null,
            "padding": null,
            "right": null,
            "top": null,
            "visibility": null,
            "width": null
          }
        },
        "7439c6a5da684c64943d2c726d3da80c": {
          "model_module": "@jupyter-widgets/controls",
          "model_name": "DescriptionStyleModel",
          "model_module_version": "1.5.0",
          "state": {
            "_model_module": "@jupyter-widgets/controls",
            "_model_module_version": "1.5.0",
            "_model_name": "DescriptionStyleModel",
            "_view_count": null,
            "_view_module": "@jupyter-widgets/base",
            "_view_module_version": "1.2.0",
            "_view_name": "StyleView",
            "description_width": ""
          }
        },
        "a7eb59f7c77544d7a577bdf4536c7989": {
          "model_module": "@jupyter-widgets/base",
          "model_name": "LayoutModel",
          "model_module_version": "1.2.0",
          "state": {
            "_model_module": "@jupyter-widgets/base",
            "_model_module_version": "1.2.0",
            "_model_name": "LayoutModel",
            "_view_count": null,
            "_view_module": "@jupyter-widgets/base",
            "_view_module_version": "1.2.0",
            "_view_name": "LayoutView",
            "align_content": null,
            "align_items": null,
            "align_self": null,
            "border": null,
            "bottom": null,
            "display": null,
            "flex": null,
            "flex_flow": null,
            "grid_area": null,
            "grid_auto_columns": null,
            "grid_auto_flow": null,
            "grid_auto_rows": null,
            "grid_column": null,
            "grid_gap": null,
            "grid_row": null,
            "grid_template_areas": null,
            "grid_template_columns": null,
            "grid_template_rows": null,
            "height": null,
            "justify_content": null,
            "justify_items": null,
            "left": null,
            "margin": null,
            "max_height": null,
            "max_width": null,
            "min_height": null,
            "min_width": null,
            "object_fit": null,
            "object_position": null,
            "order": null,
            "overflow": null,
            "overflow_x": null,
            "overflow_y": null,
            "padding": null,
            "right": null,
            "top": null,
            "visibility": null,
            "width": null
          }
        },
        "a4a1e858842b45b8832e585c0e0e7382": {
          "model_module": "@jupyter-widgets/controls",
          "model_name": "ProgressStyleModel",
          "model_module_version": "1.5.0",
          "state": {
            "_model_module": "@jupyter-widgets/controls",
            "_model_module_version": "1.5.0",
            "_model_name": "ProgressStyleModel",
            "_view_count": null,
            "_view_module": "@jupyter-widgets/base",
            "_view_module_version": "1.2.0",
            "_view_name": "StyleView",
            "bar_color": null,
            "description_width": ""
          }
        },
        "235b0d3921624504ac892f2db93d351f": {
          "model_module": "@jupyter-widgets/base",
          "model_name": "LayoutModel",
          "model_module_version": "1.2.0",
          "state": {
            "_model_module": "@jupyter-widgets/base",
            "_model_module_version": "1.2.0",
            "_model_name": "LayoutModel",
            "_view_count": null,
            "_view_module": "@jupyter-widgets/base",
            "_view_module_version": "1.2.0",
            "_view_name": "LayoutView",
            "align_content": null,
            "align_items": null,
            "align_self": null,
            "border": null,
            "bottom": null,
            "display": null,
            "flex": null,
            "flex_flow": null,
            "grid_area": null,
            "grid_auto_columns": null,
            "grid_auto_flow": null,
            "grid_auto_rows": null,
            "grid_column": null,
            "grid_gap": null,
            "grid_row": null,
            "grid_template_areas": null,
            "grid_template_columns": null,
            "grid_template_rows": null,
            "height": null,
            "justify_content": null,
            "justify_items": null,
            "left": null,
            "margin": null,
            "max_height": null,
            "max_width": null,
            "min_height": null,
            "min_width": null,
            "object_fit": null,
            "object_position": null,
            "order": null,
            "overflow": null,
            "overflow_x": null,
            "overflow_y": null,
            "padding": null,
            "right": null,
            "top": null,
            "visibility": null,
            "width": null
          }
        },
        "f37cc4bfad184a7cb89016b56b46d1d0": {
          "model_module": "@jupyter-widgets/controls",
          "model_name": "DescriptionStyleModel",
          "model_module_version": "1.5.0",
          "state": {
            "_model_module": "@jupyter-widgets/controls",
            "_model_module_version": "1.5.0",
            "_model_name": "DescriptionStyleModel",
            "_view_count": null,
            "_view_module": "@jupyter-widgets/base",
            "_view_module_version": "1.2.0",
            "_view_name": "StyleView",
            "description_width": ""
          }
        }
      }
    }
  },
  "cells": [
    {
      "cell_type": "code",
      "execution_count": 3,
      "metadata": {
        "id": "V-FW_FfDL6rQ"
      },
      "outputs": [],
      "source": [
        "import pickle\n",
        "import requests"
      ]
    },
    {
      "cell_type": "code",
      "source": [
        "%%capture\n",
        "\n",
        "!pip install simpletransformers"
      ],
      "metadata": {
        "id": "AYb7kNAhMRH8"
      },
      "execution_count": 5,
      "outputs": []
    },
    {
      "cell_type": "code",
      "source": [
        "model_path = 'https://bitbucket.org/ml-learning/models/raw/9a5be506273ef6999ae4244653548c177cc748a0/models/model.pkl'"
      ],
      "metadata": {
        "id": "Nei1ybjLL_l7"
      },
      "execution_count": 2,
      "outputs": []
    },
    {
      "cell_type": "code",
      "source": [
        "r = requests.get(model_path, stream='True')\n",
        "model = pickle.load(r.raw)"
      ],
      "metadata": {
        "id": "KY-LfUkfMN7J"
      },
      "execution_count": 6,
      "outputs": []
    },
    {
      "cell_type": "code",
      "source": [
        "def prediction(context, question, limit=5):\n",
        "  to_predict = [\n",
        "      {\n",
        "          \"context\": context,\n",
        "          \"qas\": [\n",
        "              {\n",
        "                  \"question\": question,\n",
        "                  \"id\": \"0\",\n",
        "              }\n",
        "          ],\n",
        "      }\n",
        "  ]\n",
        "\n",
        "  answers, probabilities = model.predict(to_predict)\n",
        "\n",
        "  answers = answers[0][\"answer\"][:limit]\n",
        "  probabilities = probabilities[0][\"probability\"][:limit]\n",
        "\n",
        "  for (answer, probability) in zip(answers, probabilities):\n",
        "    print(f\"{round(probability,2)}: {answer}\")"
      ],
      "metadata": {
        "id": "yveaT2tDMrwq"
      },
      "execution_count": 7,
      "outputs": []
    },
    {
      "cell_type": "code",
      "source": [
        "contexto_1 = \"\"\"\n",
        "Derecho a solicitar protección internacional.\\n\\n1. Las personas nacionales no comunitarias\n",
        "y las apátridas presentes en territorio español tienen derecho a solicitar protección internacional en España.\\n\\n2.\n",
        "Para su ejercicio, los solicitantes de protección internacional tendrán derecho a asistencia sanitaria y a asistencia\n",
        "jurídica gratuita, que se extenderá a la formalización de la solicitud y a toda la tramitación del procedimiento,\n",
        "y que se prestará en los términos previstos en la legislación española en esta materia, así como derecho a intérprete\n",
        "en los términos del artículo 22 de la Ley Orgánica 4/2000.\\n\\nLa asistencia jurídica referida en el párrafo anterior\n",
        "será preceptiva cuando las solicitudes se formalicen de acuerdo al procedimiento señalado en el artículo 21 de la\n",
        "presente Ley.\\n\\n3. La presentación de la solicitud conllevará la valoración de las circunstancias determinantes\n",
        "del reconocimiento de la condición de refugiado, así como de la concesión de la protección subsidiaria.\n",
        "De este extremo se informará en debida forma al solicitante.\\n\\n4. Toda información relativa al procedimiento,\n",
        "incluido el hecho de la presentación de la solicitud, tendrá carácter confidencial.\n",
        "\"\"\"\n",
        "\n",
        "pregunta_1 = \"¿Puedo solicitar traductor?\"\n",
        "\n",
        "prediction(contexto_1, pregunta_1)"
      ],
      "metadata": {
        "colab": {
          "base_uri": "https://localhost:8080/",
          "height": 171,
          "referenced_widgets": [
            "f16b6b5b0c9b47da8ca51d91700477dc",
            "5906cef3e66b4378b88c97cf35155bf7",
            "b53f4fac361e44d6adaa2b8c11aaef07",
            "897e4224ec094fcabe54717446b65884",
            "b6fe48fbd8df4033afe392aab731d551",
            "e222fd16eee94b1da6dcb6520931bd01",
            "7439c6a5da684c64943d2c726d3da80c",
            "a7eb59f7c77544d7a577bdf4536c7989",
            "a4a1e858842b45b8832e585c0e0e7382",
            "235b0d3921624504ac892f2db93d351f",
            "f37cc4bfad184a7cb89016b56b46d1d0"
          ]
        },
        "id": "kZQfzOynNKSX",
        "outputId": "3f6d78d0-7d68-4378-d60f-5d48671c4c47"
      },
      "execution_count": 8,
      "outputs": [
        {
          "output_type": "stream",
          "name": "stderr",
          "text": [
            "convert squad examples to features: 100%|██████████| 1/1 [00:00<00:00, 47.54it/s]\n",
            "add example index and unique id: 100%|██████████| 1/1 [00:00<00:00, 9892.23it/s]\n"
          ]
        },
        {
          "output_type": "display_data",
          "data": {
            "text/plain": [
              "Running Prediction:   0%|          | 0/1 [00:00<?, ?it/s]"
            ],
            "application/vnd.jupyter.widget-view+json": {
              "version_major": 2,
              "version_minor": 0,
              "model_id": "f16b6b5b0c9b47da8ca51d91700477dc"
            }
          },
          "metadata": {}
        },
        {
          "output_type": "stream",
          "name": "stdout",
          "text": [
            "0.12: \n",
            "0.11: .\n",
            "0.11: España. 2.\n",
            "0.04: 2.\n",
            "0.04: España. 2. Para su ejercicio, los solicitantes de protección internacional tendrán derecho a asistencia sanitaria y a asistencia jurídica gratuita,\n"
          ]
        }
      ]
    },
    {
      "cell_type": "code",
      "source": [],
      "metadata": {
        "id": "CMSMkaqMNNMu"
      },
      "execution_count": null,
      "outputs": []
    }
  ]
}