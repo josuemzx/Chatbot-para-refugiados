{
  "nbformat": 4,
  "nbformat_minor": 0,
  "metadata": {
    "colab": {
      "provenance": [],
      "collapsed_sections": [
        "F3gcdpZEKfYD",
        "o9ipE10cCnqF",
        "FWu6sEBRJv64",
        "bFzhrsFZKFqN"
      ]
    },
    "kernelspec": {
      "name": "python3",
      "display_name": "Python 3"
    },
    "language_info": {
      "name": "python"
    },
    "accelerator": "GPU",
    "gpuClass": "standard"
  },
  "cells": [
    {
      "cell_type": "markdown",
      "source": [
        "# Chatbot Mejorado"
      ],
      "metadata": {
        "id": "BdOP80tWrALP"
      }
    },
    {
      "cell_type": "markdown",
      "source": [
        "###Notebook original \"ES_Chatbot_bloom_17_12\""
      ],
      "metadata": {
        "id": "F3gcdpZEKfYD"
      }
    },
    {
      "cell_type": "code",
      "source": [
        "# Instalar la biblioteca de Hugging Face y spacy\n",
        "!pip install transformers spacy"
      ],
      "metadata": {
        "colab": {
          "base_uri": "https://localhost:8080/"
        },
        "id": "r8euqZzUrGRP",
        "outputId": "99a909d8-6e6f-4cd7-b3b3-8fc6fd7d8619"
      },
      "execution_count": 7,
      "outputs": [
        {
          "output_type": "stream",
          "name": "stdout",
          "text": [
            "Looking in indexes: https://pypi.org/simple, https://us-python.pkg.dev/colab-wheels/public/simple/\n",
            "Requirement already satisfied: transformers in /usr/local/lib/python3.8/dist-packages (4.25.1)\n",
            "Requirement already satisfied: spacy in /usr/local/lib/python3.8/dist-packages (3.4.4)\n",
            "Requirement already satisfied: pyyaml>=5.1 in /usr/local/lib/python3.8/dist-packages (from transformers) (6.0)\n",
            "Requirement already satisfied: tqdm>=4.27 in /usr/local/lib/python3.8/dist-packages (from transformers) (4.64.1)\n",
            "Requirement already satisfied: numpy>=1.17 in /usr/local/lib/python3.8/dist-packages (from transformers) (1.21.6)\n",
            "Requirement already satisfied: packaging>=20.0 in /usr/local/lib/python3.8/dist-packages (from transformers) (21.3)\n",
            "Requirement already satisfied: requests in /usr/local/lib/python3.8/dist-packages (from transformers) (2.23.0)\n",
            "Requirement already satisfied: tokenizers!=0.11.3,<0.14,>=0.11.1 in /usr/local/lib/python3.8/dist-packages (from transformers) (0.13.2)\n",
            "Requirement already satisfied: filelock in /usr/local/lib/python3.8/dist-packages (from transformers) (3.8.2)\n",
            "Requirement already satisfied: huggingface-hub<1.0,>=0.10.0 in /usr/local/lib/python3.8/dist-packages (from transformers) (0.11.1)\n",
            "Requirement already satisfied: regex!=2019.12.17 in /usr/local/lib/python3.8/dist-packages (from transformers) (2022.6.2)\n",
            "Requirement already satisfied: typing-extensions>=3.7.4.3 in /usr/local/lib/python3.8/dist-packages (from huggingface-hub<1.0,>=0.10.0->transformers) (4.4.0)\n",
            "Requirement already satisfied: pyparsing!=3.0.5,>=2.0.2 in /usr/local/lib/python3.8/dist-packages (from packaging>=20.0->transformers) (3.0.9)\n",
            "Requirement already satisfied: setuptools in /usr/local/lib/python3.8/dist-packages (from spacy) (57.4.0)\n",
            "Requirement already satisfied: srsly<3.0.0,>=2.4.3 in /usr/local/lib/python3.8/dist-packages (from spacy) (2.4.5)\n",
            "Requirement already satisfied: smart-open<7.0.0,>=5.2.1 in /usr/local/lib/python3.8/dist-packages (from spacy) (6.3.0)\n",
            "Requirement already satisfied: spacy-legacy<3.1.0,>=3.0.10 in /usr/local/lib/python3.8/dist-packages (from spacy) (3.0.10)\n",
            "Requirement already satisfied: catalogue<2.1.0,>=2.0.6 in /usr/local/lib/python3.8/dist-packages (from spacy) (2.0.8)\n",
            "Requirement already satisfied: pathy>=0.3.5 in /usr/local/lib/python3.8/dist-packages (from spacy) (0.10.1)\n",
            "Requirement already satisfied: wasabi<1.1.0,>=0.9.1 in /usr/local/lib/python3.8/dist-packages (from spacy) (0.10.1)\n",
            "Requirement already satisfied: pydantic!=1.8,!=1.8.1,<1.11.0,>=1.7.4 in /usr/local/lib/python3.8/dist-packages (from spacy) (1.10.2)\n",
            "Requirement already satisfied: cymem<2.1.0,>=2.0.2 in /usr/local/lib/python3.8/dist-packages (from spacy) (2.0.7)\n",
            "Requirement already satisfied: langcodes<4.0.0,>=3.2.0 in /usr/local/lib/python3.8/dist-packages (from spacy) (3.3.0)\n",
            "Requirement already satisfied: murmurhash<1.1.0,>=0.28.0 in /usr/local/lib/python3.8/dist-packages (from spacy) (1.0.9)\n",
            "Requirement already satisfied: preshed<3.1.0,>=3.0.2 in /usr/local/lib/python3.8/dist-packages (from spacy) (3.0.8)\n",
            "Requirement already satisfied: spacy-loggers<2.0.0,>=1.0.0 in /usr/local/lib/python3.8/dist-packages (from spacy) (1.0.4)\n",
            "Requirement already satisfied: typer<0.8.0,>=0.3.0 in /usr/local/lib/python3.8/dist-packages (from spacy) (0.7.0)\n",
            "Requirement already satisfied: thinc<8.2.0,>=8.1.0 in /usr/local/lib/python3.8/dist-packages (from spacy) (8.1.5)\n",
            "Requirement already satisfied: jinja2 in /usr/local/lib/python3.8/dist-packages (from spacy) (2.11.3)\n",
            "Requirement already satisfied: chardet<4,>=3.0.2 in /usr/local/lib/python3.8/dist-packages (from requests->transformers) (3.0.4)\n",
            "Requirement already satisfied: idna<3,>=2.5 in /usr/local/lib/python3.8/dist-packages (from requests->transformers) (2.10)\n",
            "Requirement already satisfied: urllib3!=1.25.0,!=1.25.1,<1.26,>=1.21.1 in /usr/local/lib/python3.8/dist-packages (from requests->transformers) (1.24.3)\n",
            "Requirement already satisfied: certifi>=2017.4.17 in /usr/local/lib/python3.8/dist-packages (from requests->transformers) (2022.12.7)\n",
            "Requirement already satisfied: blis<0.8.0,>=0.7.8 in /usr/local/lib/python3.8/dist-packages (from thinc<8.2.0,>=8.1.0->spacy) (0.7.9)\n",
            "Requirement already satisfied: confection<1.0.0,>=0.0.1 in /usr/local/lib/python3.8/dist-packages (from thinc<8.2.0,>=8.1.0->spacy) (0.0.3)\n",
            "Requirement already satisfied: click<9.0.0,>=7.1.1 in /usr/local/lib/python3.8/dist-packages (from typer<0.8.0,>=0.3.0->spacy) (7.1.2)\n",
            "Requirement already satisfied: MarkupSafe>=0.23 in /usr/local/lib/python3.8/dist-packages (from jinja2->spacy) (2.0.1)\n"
          ]
        }
      ]
    },
    {
      "cell_type": "markdown",
      "source": [
        "###0. https://github.com/bigscience-workshop/Megatron-DeepSpeed"
      ],
      "metadata": {
        "id": "o9ipE10cCnqF"
      }
    },
    {
      "cell_type": "markdown",
      "source": [
        "Instalamos git, para poder trabajar con el repositorio bigscience-workshop"
      ],
      "metadata": {
        "id": "XoXIH6wSILRb"
      }
    },
    {
      "cell_type": "code",
      "source": [
        "!git version"
      ],
      "metadata": {
        "colab": {
          "base_uri": "https://localhost:8080/"
        },
        "id": "JNu7wfpOE2rx",
        "outputId": "f82c7b0c-9e77-4cf8-ffe9-37d111dee252"
      },
      "execution_count": 9,
      "outputs": [
        {
          "output_type": "stream",
          "name": "stdout",
          "text": [
            "git version 2.17.1\n"
          ]
        }
      ]
    },
    {
      "cell_type": "code",
      "source": [
        "!git init"
      ],
      "metadata": {
        "colab": {
          "base_uri": "https://localhost:8080/"
        },
        "id": "63irIUwyHJJg",
        "outputId": "810fa58c-fe99-42ea-935f-faaeb4e9559b"
      },
      "execution_count": 15,
      "outputs": [
        {
          "output_type": "stream",
          "name": "stdout",
          "text": [
            "Initialized empty Git repository in /content/.git/\n"
          ]
        }
      ]
    },
    {
      "cell_type": "code",
      "source": [
        "!git config –global user.email “smirosarradell@gmail.com”\n",
        "!git config –global user.name “silmir”"
      ],
      "metadata": {
        "colab": {
          "base_uri": "https://localhost:8080/"
        },
        "id": "G3vQYSqlE8Mq",
        "outputId": "8633d505-9249-45fc-d33b-ad879c79b5e7"
      },
      "execution_count": 16,
      "outputs": [
        {
          "output_type": "stream",
          "name": "stdout",
          "text": [
            "error: key does not contain a section: –global\n",
            "error: key does not contain a section: –global\n"
          ]
        }
      ]
    },
    {
      "cell_type": "code",
      "source": [
        "!git clone https://github.com/bigscience-workshop/Megatron-DeepSpeed\n",
        "!cd Megatron-DeepSpeed\n",
        "!pip install -r requirements.txt"
      ],
      "metadata": {
        "colab": {
          "base_uri": "https://localhost:8080/"
        },
        "id": "COHqxVKKCoL4",
        "outputId": "1f65fdec-086a-4bd2-937e-f5b091917479"
      },
      "execution_count": 20,
      "outputs": [
        {
          "output_type": "stream",
          "name": "stdout",
          "text": [
            "Cloning into 'Megatron-DeepSpeed'...\n",
            "remote: Enumerating objects: 11378, done.\u001b[K\n",
            "remote: Counting objects: 100% (74/74), done.\u001b[K\n",
            "remote: Compressing objects: 100% (47/47), done.\u001b[K\n",
            "remote: Total 11378 (delta 32), reused 46 (delta 27), pack-reused 11304\u001b[K\n",
            "Receiving objects: 100% (11378/11378), 6.77 MiB | 16.50 MiB/s, done.\n",
            "Resolving deltas: 100% (8409/8409), done.\n",
            "\u001b[31mERROR: Could not open requirements file: [Errno 2] No such file or directory: 'requirements.txt'\u001b[0m\n"
          ]
        }
      ]
    },
    {
      "cell_type": "code",
      "source": [
        "!git clone https://github.com/NVIDIA/apex\n",
        "!cd apex\n",
        "!pip install --global-option=\"--cpp_ext\" --global-option=\"--cuda_ext\" --no-cache -v --disable-pip-version-check .  2>&1 | tee build.log"
      ],
      "metadata": {
        "colab": {
          "base_uri": "https://localhost:8080/"
        },
        "id": "f3kyx9_vC6Ov",
        "outputId": "e737ef49-8c3f-4898-cd7b-f2a5b780bdce"
      },
      "execution_count": 21,
      "outputs": [
        {
          "output_type": "stream",
          "name": "stdout",
          "text": [
            "Cloning into 'apex'...\n",
            "remote: Enumerating objects: 10686, done.\u001b[K\n",
            "remote: Counting objects: 100% (208/208), done.\u001b[K\n",
            "remote: Compressing objects: 100% (144/144), done.\u001b[K\n",
            "remote: Total 10686 (delta 120), reused 123 (delta 64), pack-reused 10478\u001b[K\n",
            "Receiving objects: 100% (10686/10686), 15.21 MiB | 26.71 MiB/s, done.\n",
            "Resolving deltas: 100% (7346/7346), done.\n",
            "Using pip 21.1.3 from /usr/local/lib/python3.8/dist-packages/pip (python 3.8)\n",
            "Value for scheme.platlib does not match. Please report this to <https://github.com/pypa/pip/issues/9617>\n",
            "distutils: /usr/local/lib/python3.8/dist-packages\n",
            "sysconfig: /usr/lib/python3.8/site-packages\n",
            "Value for scheme.purelib does not match. Please report this to <https://github.com/pypa/pip/issues/9617>\n",
            "distutils: /usr/local/lib/python3.8/dist-packages\n",
            "sysconfig: /usr/lib/python3.8/site-packages\n",
            "Value for scheme.headers does not match. Please report this to <https://github.com/pypa/pip/issues/9617>\n",
            "distutils: /usr/local/include/python3.8/UNKNOWN\n",
            "sysconfig: /usr/include/python3.8/UNKNOWN\n",
            "Value for scheme.scripts does not match. Please report this to <https://github.com/pypa/pip/issues/9617>\n",
            "distutils: /usr/local/bin\n",
            "sysconfig: /usr/bin\n",
            "Value for scheme.data does not match. Please report this to <https://github.com/pypa/pip/issues/9617>\n",
            "distutils: /usr/local\n",
            "sysconfig: /usr\n",
            "Additional context:\n",
            "user = False\n",
            "home = None\n",
            "root = None\n",
            "prefix = None\n",
            "Non-user install because site-packages writeable\n",
            "Created temporary directory: /tmp/pip-ephem-wheel-cache-age3upo0\n",
            "Created temporary directory: /tmp/pip-req-tracker-qvwv7ln2\n",
            "Initialized build tracking at /tmp/pip-req-tracker-qvwv7ln2\n",
            "Created build tracker: /tmp/pip-req-tracker-qvwv7ln2\n",
            "Entered build tracker: /tmp/pip-req-tracker-qvwv7ln2\n",
            "Created temporary directory: /tmp/pip-install-ctpbd1vv\n",
            "/usr/local/lib/python3.8/dist-packages/pip/_internal/commands/install.py:232: UserWarning: Disabling all use of wheels due to the use of --build-option / --global-option / --install-option.\n",
            "  cmdoptions.check_install_build_global(options)\n",
            "ERROR: Directory '.' is not installable. Neither 'setup.py' nor 'pyproject.toml' found.\n",
            "Exception information:\n",
            "Traceback (most recent call last):\n",
            "  File \"/usr/local/lib/python3.8/dist-packages/pip/_internal/cli/base_command.py\", line 180, in _main\n",
            "    status = self.run(options, args)\n",
            "  File \"/usr/local/lib/python3.8/dist-packages/pip/_internal/cli/req_command.py\", line 199, in wrapper\n",
            "    return func(self, options, args)\n",
            "  File \"/usr/local/lib/python3.8/dist-packages/pip/_internal/commands/install.py\", line 289, in run\n",
            "    reqs = self.get_requirements(args, options, finder, session)\n",
            "  File \"/usr/local/lib/python3.8/dist-packages/pip/_internal/cli/req_command.py\", line 365, in get_requirements\n",
            "    req_to_add = install_req_from_line(\n",
            "  File \"/usr/local/lib/python3.8/dist-packages/pip/_internal/req/constructors.py\", line 393, in install_req_from_line\n",
            "    parts = parse_req_from_line(name, line_source)\n",
            "  File \"/usr/local/lib/python3.8/dist-packages/pip/_internal/req/constructors.py\", line 307, in parse_req_from_line\n",
            "    url = _get_url_from_path(p, name)\n",
            "  File \"/usr/local/lib/python3.8/dist-packages/pip/_internal/req/constructors.py\", line 261, in _get_url_from_path\n",
            "    raise InstallationError(\n",
            "pip._internal.exceptions.InstallationError: Directory '.' is not installable. Neither 'setup.py' nor 'pyproject.toml' found.\n",
            "Removed build tracker: '/tmp/pip-req-tracker-qvwv7ln2'\n"
          ]
        }
      ]
    },
    {
      "cell_type": "code",
      "source": [
        "!git clone https://github.com/microsoft/deepspeed\n",
        "!cd deepspeed\n",
        "!rm -rf build\n",
        "!TORCH_CUDA_ARCH_LIST=\"7.0\" DS_BUILD_CPU_ADAM=1 DS_BUILD_AIO=1 DS_BUILD_UTILS=1 pip install -e . --global-option=\"build_ext\" --global-option=\"-j8\" --no-cache -v --disable-pip-version-check"
      ],
      "metadata": {
        "colab": {
          "base_uri": "https://localhost:8080/"
        },
        "id": "PgxAb5mKC5_o",
        "outputId": "b1f7ebe0-93a9-45b1-a58e-c51141f00501"
      },
      "execution_count": 22,
      "outputs": [
        {
          "output_type": "stream",
          "name": "stdout",
          "text": [
            "Cloning into 'deepspeed'...\n",
            "remote: Enumerating objects: 28043, done.\u001b[K\n",
            "remote: Counting objects: 100% (3974/3974), done.\u001b[K\n",
            "remote: Compressing objects: 100% (409/409), done.\u001b[K\n",
            "remote: Total 28043 (delta 3762), reused 3646 (delta 3563), pack-reused 24069\u001b[K\n",
            "Receiving objects: 100% (28043/28043), 33.21 MiB | 26.26 MiB/s, done.\n",
            "Resolving deltas: 100% (20175/20175), done.\n",
            "/usr/local/lib/python3.8/dist-packages/pip/_internal/commands/install.py:232: UserWarning: Disabling all use of wheels due to the use of --build-option / --global-option / --install-option.\n",
            "  cmdoptions.check_install_build_global(options)\n",
            "Using pip 21.1.3 from /usr/local/lib/python3.8/dist-packages/pip (python 3.8)\n",
            "Value for scheme.platlib does not match. Please report this to <https://github.com/pypa/pip/issues/9617>\n",
            "distutils: /usr/local/lib/python3.8/dist-packages\n",
            "sysconfig: /usr/lib/python3.8/site-packages\n",
            "Value for scheme.purelib does not match. Please report this to <https://github.com/pypa/pip/issues/9617>\n",
            "distutils: /usr/local/lib/python3.8/dist-packages\n",
            "sysconfig: /usr/lib/python3.8/site-packages\n",
            "Value for scheme.headers does not match. Please report this to <https://github.com/pypa/pip/issues/9617>\n",
            "distutils: /usr/local/include/python3.8/UNKNOWN\n",
            "sysconfig: /usr/include/python3.8/UNKNOWN\n",
            "Value for scheme.scripts does not match. Please report this to <https://github.com/pypa/pip/issues/9617>\n",
            "distutils: /usr/local/bin\n",
            "sysconfig: /usr/bin\n",
            "Value for scheme.data does not match. Please report this to <https://github.com/pypa/pip/issues/9617>\n",
            "distutils: /usr/local\n",
            "sysconfig: /usr\n",
            "Additional context:\n",
            "user = False\n",
            "home = None\n",
            "root = None\n",
            "prefix = None\n",
            "Non-user install because site-packages writeable\n",
            "Created temporary directory: /tmp/pip-ephem-wheel-cache-vgfdmbbp\n",
            "Created temporary directory: /tmp/pip-req-tracker-0gt9rocq\n",
            "Initialized build tracking at /tmp/pip-req-tracker-0gt9rocq\n",
            "Created build tracker: /tmp/pip-req-tracker-0gt9rocq\n",
            "Entered build tracker: /tmp/pip-req-tracker-0gt9rocq\n",
            "Created temporary directory: /tmp/pip-install-_0p70d3y\n",
            "\u001b[31mERROR: File \"setup.py\" or \"setup.cfg\" not found. Directory cannot be installed in editable mode: /content\u001b[0m\n",
            "Exception information:\n",
            "Traceback (most recent call last):\n",
            "  File \"/usr/local/lib/python3.8/dist-packages/pip/_internal/cli/base_command.py\", line 180, in _main\n",
            "    status = self.run(options, args)\n",
            "  File \"/usr/local/lib/python3.8/dist-packages/pip/_internal/cli/req_command.py\", line 199, in wrapper\n",
            "    return func(self, options, args)\n",
            "  File \"/usr/local/lib/python3.8/dist-packages/pip/_internal/commands/install.py\", line 289, in run\n",
            "    reqs = self.get_requirements(args, options, finder, session)\n",
            "  File \"/usr/local/lib/python3.8/dist-packages/pip/_internal/cli/req_command.py\", line 375, in get_requirements\n",
            "    req_to_add = install_req_from_editable(\n",
            "  File \"/usr/local/lib/python3.8/dist-packages/pip/_internal/req/constructors.py\", line 210, in install_req_from_editable\n",
            "    parts = parse_req_from_editable(editable_req)\n",
            "  File \"/usr/local/lib/python3.8/dist-packages/pip/_internal/req/constructors.py\", line 181, in parse_req_from_editable\n",
            "    name, url, extras_override = parse_editable(editable_req)\n",
            "  File \"/usr/local/lib/python3.8/dist-packages/pip/_internal/req/constructors.py\", line 94, in parse_editable\n",
            "    raise InstallationError(msg)\n",
            "pip._internal.exceptions.InstallationError: File \"setup.py\" or \"setup.cfg\" not found. Directory cannot be installed in editable mode: /content\n",
            "Removed build tracker: '/tmp/pip-req-tracker-0gt9rocq'\n"
          ]
        }
      ]
    },
    {
      "cell_type": "markdown",
      "source": [
        "### 1.Tratamiento-Inclusión de datos de entrenamiento para FineTuning modelo"
      ],
      "metadata": {
        "id": "qdP6She7IgEh"
      }
    },
    {
      "cell_type": "markdown",
      "source": [
        "Transformamos datos originales (BOE) para ser tratados en modelo de Question-Answering, a modelo de generación de texto. Según especificado en repositorio github https://github.com/bigscience-workshop/Megatron-DeepSpeed:"
      ],
      "metadata": {
        "id": "22bcXD9mIoAR"
      }
    },
    {
      "cell_type": "markdown",
      "source": [
        "![image.png](data:image/png;base64,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)"
      ],
      "metadata": {
        "id": "sByierZRI3g9"
      }
    },
    {
      "cell_type": "code",
      "source": [
        "# Revisar documento tratamiento json y bdd original, para adaptar nombre del campo según la imagen anterior"
      ],
      "metadata": {
        "id": "k-VBX0kVImjk"
      },
      "execution_count": 91,
      "outputs": []
    },
    {
      "cell_type": "code",
      "execution_count": 92,
      "metadata": {
        "id": "eee2f048"
      },
      "outputs": [],
      "source": [
        "import json\n",
        "import requests\n",
        "import random\n",
        "import string"
      ]
    },
    {
      "cell_type": "markdown",
      "metadata": {
        "id": "e5b4d882"
      },
      "source": [
        "Leemos el fichero json del repositorio"
      ]
    },
    {
      "cell_type": "code",
      "execution_count": 93,
      "metadata": {
        "id": "03fcee37"
      },
      "outputs": [],
      "source": [
        "url = \"https://raw.githubusercontent.com/josuemzx/Chatbot-para-refugiados/main/data/Dataset%20propio/train_data.json\"\n",
        "train_data = json.loads(requests.get(url).text)"
      ]
    },
    {
      "cell_type": "code",
      "source": [
        "train_data"
      ],
      "metadata": {
        "colab": {
          "base_uri": "https://localhost:8080/"
        },
        "id": "7D_lg34nJeag",
        "outputId": "722e049b-b477-43a1-e3b3-4345397f98db"
      },
      "execution_count": 94,
      "outputs": [
        {
          "output_type": "execute_result",
          "data": {
            "text/plain": [
              "{'data': [{'paragraphs': [{'qas': [{'question': '¿Donde provienen las subvenciones?',\n",
              "       'id': 583262,\n",
              "       'answers': [{'answer_id': 642354,\n",
              "         'document_id': 1173227,\n",
              "         'question_id': 583262,\n",
              "         'text': 'de la Secretaría General de Inmigración y Emigración, recibiendo cofinanciación, en algunos programas, del Fondo Social Europeo y del Fondo de Asilo, Migración e Integración.',\n",
              "         'answer_start': 172,\n",
              "         'answer_end': 346,\n",
              "         'answer_category': None}],\n",
              "       'is_impossible': False},\n",
              "      {'question': '¿Para que sirven las subvenciones?',\n",
              "       'id': 583263,\n",
              "       'answers': [{'answer_id': 642355,\n",
              "         'document_id': 1173227,\n",
              "         'question_id': 583263,\n",
              "         'text': 'para la acogida y la integración ',\n",
              "         'answer_start': 38,\n",
              "         'answer_end': 71,\n",
              "         'answer_category': None}],\n",
              "       'is_impossible': False},\n",
              "      {'question': '¿Para quienes son las subvenciones?',\n",
              "       'id': 583264,\n",
              "       'answers': [{'answer_id': 642356,\n",
              "         'document_id': 1173227,\n",
              "         'question_id': 583264,\n",
              "         'text': 'a las ONG',\n",
              "         'answer_start': 28,\n",
              "         'answer_end': 37,\n",
              "         'answer_category': None}],\n",
              "       'is_impossible': False},\n",
              "      {'question': '¿Quien puede recibir las subenciones?',\n",
              "       'id': 583265,\n",
              "       'answers': [{'answer_id': 642357,\n",
              "         'document_id': 1173227,\n",
              "         'question_id': 583265,\n",
              "         'text': ' ONG',\n",
              "         'answer_start': 33,\n",
              "         'answer_end': 37,\n",
              "         'answer_category': None}],\n",
              "       'is_impossible': False}],\n",
              "     'context': 'Las subvenciones concedidas a las ONG para la acogida y la integración de quienes conforman estos colectivos están financiadas con fondos que provienen de los presupuestos de la Secretaría General de Inmigración y Emigración, recibiendo cofinanciación, en algunos programas, del Fondo Social Europeo y del Fondo de Asilo, Migración e Integración.',\n",
              "     'document_id': 1173227}]},\n",
              "  {'paragraphs': [{'qas': [{'question': '¿Que significa CAR?',\n",
              "       'id': 583272,\n",
              "       'answers': [{'answer_id': 642364,\n",
              "         'document_id': 1173229,\n",
              "         'question_id': 583272,\n",
              "         'text': 'Centro de Acogida a Refugiados',\n",
              "         'answer_start': 0,\n",
              "         'answer_end': 30,\n",
              "         'answer_category': None}],\n",
              "       'is_impossible': False},\n",
              "      {'question': '¿Que es CAR?',\n",
              "       'id': 583274,\n",
              "       'answers': [{'answer_id': 642366,\n",
              "         'document_id': 1173229,\n",
              "         'question_id': 583274,\n",
              "         'text': 'Son establecimientos públicos destinados a prestar alojamiento, manutención y asistencia psicosocial urgente y primaria',\n",
              "         'answer_start': 41,\n",
              "         'answer_end': 160,\n",
              "         'answer_category': None}],\n",
              "       'is_impossible': False},\n",
              "      {'question': '¿Que es C.A.R?',\n",
              "       'id': 583273,\n",
              "       'answers': [{'answer_id': 642365,\n",
              "         'document_id': 1173229,\n",
              "         'question_id': 583273,\n",
              "         'text': ' Son establecimientos públicos destinados a prestar alojamiento, manutención y asistencia psicosocial urgente y primaria',\n",
              "         'answer_start': 40,\n",
              "         'answer_end': 160,\n",
              "         'answer_category': None}],\n",
              "       'is_impossible': False},\n",
              "      {'question': '¿Donde pueden pedir asilo?',\n",
              "       'id': 583275,\n",
              "       'answers': [{'answer_id': 642367,\n",
              "         'document_id': 1173229,\n",
              "         'question_id': 583275,\n",
              "         'text': 'España',\n",
              "         'answer_start': 360,\n",
              "         'answer_end': 366,\n",
              "         'answer_category': None}],\n",
              "       'is_impossible': False},\n",
              "      {'question': '¿Que significa C.A.R?',\n",
              "       'id': 583271,\n",
              "       'answers': [{'answer_id': 642363,\n",
              "         'document_id': 1173229,\n",
              "         'question_id': 583271,\n",
              "         'text': 'Centro de Acogida a Refugiados',\n",
              "         'answer_start': 0,\n",
              "         'answer_end': 30,\n",
              "         'answer_category': None}],\n",
              "       'is_impossible': False},\n",
              "      {'question': '¿Donde pueden ir los refugiados?',\n",
              "       'id': 583276,\n",
              "       'answers': [{'answer_id': 642368,\n",
              "         'document_id': 1173229,\n",
              "         'question_id': 583276,\n",
              "         'text': 'España ',\n",
              "         'answer_start': 300,\n",
              "         'answer_end': 307,\n",
              "         'answer_category': None}],\n",
              "       'is_impossible': False}],\n",
              "     'context': 'Centro de Acogida a Refugiados (C.A.R.). Son establecimientos públicos destinados a prestar alojamiento, manutención y asistencia psicosocial urgente y primaria, así como otros servicios sociales encaminados a facilitar la convivencia e integrar en la comunidad a las personas que solicitan asilo en España u obtengan la condición de refugiado o desplazado en España y que carezcan de medios económicos para atender a sus necesidades y a las de su familia.',\n",
              "     'document_id': 1173229}]},\n",
              "  {'paragraphs': [{'qas': [{'question': '¿A que se encarga ACNUR?',\n",
              "       'id': 583268,\n",
              "       'answers': [{'answer_id': 642360,\n",
              "         'document_id': 1173228,\n",
              "         'question_id': 583268,\n",
              "         'text': 'proteger a los refugiados y desplazados por persecuciones o conflictos',\n",
              "         'answer_start': 118,\n",
              "         'answer_end': 188,\n",
              "         'answer_category': None}],\n",
              "       'is_impossible': False},\n",
              "      {'question': '¿Que hace ACNUR?',\n",
              "       'id': 583269,\n",
              "       'answers': [{'answer_id': 642361,\n",
              "         'document_id': 1173228,\n",
              "         'question_id': 583269,\n",
              "         'text': 'proteger a los refugiados y desplazados por persecuciones o conflictos',\n",
              "         'answer_start': 118,\n",
              "         'answer_end': 188,\n",
              "         'answer_category': None}],\n",
              "       'is_impossible': False},\n",
              "      {'question': '¿Que significa ACNUR?',\n",
              "       'id': 583267,\n",
              "       'answers': [{'answer_id': 642359,\n",
              "         'document_id': 1173228,\n",
              "         'question_id': 583267,\n",
              "         'text': 'El Alto Comisionado de las Naciones Unidas para los Refugiados ',\n",
              "         'answer_start': 0,\n",
              "         'answer_end': 63,\n",
              "         'answer_category': None}],\n",
              "       'is_impossible': False},\n",
              "      {'question': '¿De donde recibe las subvenciones ACNUR?',\n",
              "       'id': 583270,\n",
              "       'answers': [{'answer_id': 642362,\n",
              "         'document_id': 1173228,\n",
              "         'question_id': 583270,\n",
              "         'text': 'Dirección General de Migraciones',\n",
              "         'answer_start': 368,\n",
              "         'answer_end': 400,\n",
              "         'answer_category': None}],\n",
              "       'is_impossible': False}],\n",
              "     'context': 'El Alto Comisionado de las Naciones Unidas para los Refugiados (ACNUR), organismo de las Naciones Unidas encargado de proteger a los refugiados y desplazados por persecuciones o conflictos, debe intervenir, de acuerdo con la legislación en vigor, en el procedimiento de concesión del derecho de asilo. En base a esta colaboración, el ACNUR recibe una subvención de la Dirección General de Migraciones.',\n",
              "     'document_id': 1173228}]},\n",
              "  {'paragraphs': [{'qas': [{'question': '¿En que momento se puede pedir las ayudas?',\n",
              "       'id': 583291,\n",
              "       'answers': [{'answer_id': 642383,\n",
              "         'document_id': 1173234,\n",
              "         'question_id': 583291,\n",
              "         'text': 'desde el momento del ingreso del beneficiario en el centro y en función de su situación personal',\n",
              "         'answer_start': 70,\n",
              "         'answer_end': 166,\n",
              "         'answer_category': None}],\n",
              "       'is_impossible': False}],\n",
              "     'context': 'Las ayudas para gastos personales y de transporte se podrán solicitar desde el momento del ingreso del beneficiario en el centro y en función de su situación personal.\\nLos demás gastos se podrán solicitar a lo largo de la estancia del beneficiario en el centro, cuando se produzca la circunstancia que dé lugar al mismo.',\n",
              "     'document_id': 1173234}]},\n",
              "  {'paragraphs': [{'qas': [{'question': '¿Como ser beneficiario?',\n",
              "       'id': 583281,\n",
              "       'answers': [{'answer_id': 642373,\n",
              "         'document_id': 1173231,\n",
              "         'question_id': 583281,\n",
              "         'text': 'Haber solicitado o ser beneficiario de proteccion internacional en España.\\nEstar en posesión del documento pertinente que acredite su condición de solicitante o beneficiario de proteccion internacional del estatuto de apatrida o protección temporal en España.\\nHaber solicitado proteccion internacional y no ser admitida a trámite ',\n",
              "         'answer_start': 188,\n",
              "         'answer_end': 518,\n",
              "         'answer_category': None}],\n",
              "       'is_impossible': False},\n",
              "      {'question': '¿Que reglamento sigue?',\n",
              "       'id': 583283,\n",
              "       'answers': [{'answer_id': 642375,\n",
              "         'document_id': 1173231,\n",
              "         'question_id': 583283,\n",
              "         'text': 'eglamento (CE) 343/2003 del Consejo de 18 de febrero de 2003',\n",
              "         'answer_start': 639,\n",
              "         'answer_end': 699,\n",
              "         'answer_category': None}],\n",
              "       'is_impossible': False},\n",
              "      {'question': '¿Los requsitos de CAR?',\n",
              "       'id': 583284,\n",
              "       'answers': [{'answer_id': 642376,\n",
              "         'document_id': 1173231,\n",
              "         'question_id': 583284,\n",
              "         'text': 'Carecer de trabajo o de medios económicos para atender sus necesidades y las de su familia.\\nNo padecer enfermedades transmisibles o discapacidades fisicas o psíquicas que puedan alterar la normal convivencia en el centro.\\nAceptación expresa de la normativa por la que se rige el centro.',\n",
              "         'answer_start': 1085,\n",
              "         'answer_end': 1371,\n",
              "         'answer_category': None}],\n",
              "       'is_impossible': False},\n",
              "      {'question': '¿Como podria ser beneficiario de los centros de Acogida?',\n",
              "       'id': 583280,\n",
              "       'answers': [{'answer_id': 642372,\n",
              "         'document_id': 1173231,\n",
              "         'question_id': 583280,\n",
              "         'text': 'Haber solicitado o ser beneficiario de proteccion internacional en España.\\nEstar en posesión del documento pertinente que acredite su condición de solicitante o beneficiario de proteccion internacional del estatuto de apatrida o protección temporal en España.\\nHaber solicitado proteccion internacional y no ser admitida a trámite la solicitud,',\n",
              "         'answer_start': 188,\n",
              "         'answer_end': 531,\n",
              "         'answer_category': None}],\n",
              "       'is_impossible': False},\n",
              "      {'question': '¿Que condición tienen que tener para ser beneficiarios?',\n",
              "       'id': 583282,\n",
              "       'answers': [{'answer_id': 642374,\n",
              "         'document_id': 1173231,\n",
              "         'question_id': 583282,\n",
              "         'text': 'Haber solicitado o ser beneficiario de proteccion internacional en España.\\nEstar en posesión del documento pertinente que acredite su condición de solicitante o beneficiario de proteccion internacional del estatuto de apatrida o protección temporal en España.\\nHaber solicitado proteccion internacional y no ser admitida a trámite la solicitud',\n",
              "         'answer_start': 188,\n",
              "         'answer_end': 530,\n",
              "         'answer_category': None}],\n",
              "       'is_impossible': False},\n",
              "      {'question': '¿Los requisitos del centro?',\n",
              "       'id': 583285,\n",
              "       'answers': [{'answer_id': 642377,\n",
              "         'document_id': 1173231,\n",
              "         'question_id': 583285,\n",
              "         'text': 'Carecer de trabajo o de medios económicos para atender sus necesidades y las de su familia.\\nNo padecer enfermedades transmisibles o discapacidades fisicas o psíquicas que puedan alterar la normal convivencia en el centro.\\nAceptación expresa de la normativa por la que se rige el centro',\n",
              "         'answer_start': 1085,\n",
              "         'answer_end': 1370,\n",
              "         'answer_category': None}],\n",
              "       'is_impossible': False}],\n",
              "     'context': 'Podrán ser beneficiarios de los Centros de Acogida a Refugiados de la Dirección General de Inclusión y Atención Humanitaria, las personas que reúnan alguna de las siguientes condiciones:\\n\\nHaber solicitado o ser beneficiario de proteccion internacional en España.\\nEstar en posesión del documento pertinente que acredite su condición de solicitante o beneficiario de proteccion internacional del estatuto de apatrida o protección temporal en España.\\nHaber solicitado proteccion internacional y no ser admitida a trámite la solicitud, cuando haya aceptado un Estado miembro la responsabilidad de examinar su solicitud de asilo en virtud del Reglamento (CE) 343/2003 del Consejo de 18 de febrero de 2003 por el que se establecen los criterios y mecanismos de determinación del Estado miembro responsable del examen de una solicitud de asilo presentada en uno de los estados miembros por un nacional de un tercer país, durante el plazo previsto para gestionar el traslado al país que haya aceptado su toma a cargo.\\nEn todos los supuestos les serán de aplicación los siguientes requisitos:\\n\\nCarecer de trabajo o de medios económicos para atender sus necesidades y las de su familia.\\nNo padecer enfermedades transmisibles o discapacidades fisicas o psíquicas que puedan alterar la normal convivencia en el centro.\\nAceptación expresa de la normativa por la que se rige el centro.',\n",
              "     'document_id': 1173231}]},\n",
              "  {'paragraphs': [{'qas': [{'question': '¿Periodo de resolución?',\n",
              "       'id': 583292,\n",
              "       'answers': [{'answer_id': 642384,\n",
              "         'document_id': 1173235,\n",
              "         'question_id': 583292,\n",
              "         'text': 'en el plazo máximo de seis meses',\n",
              "         'answer_start': 212,\n",
              "         'answer_end': 244,\n",
              "         'answer_category': None}],\n",
              "       'is_impossible': False},\n",
              "      {'question': '¿Tiempo de resolución?',\n",
              "       'id': 583293,\n",
              "       'answers': [{'answer_id': 642385,\n",
              "         'document_id': 1173235,\n",
              "         'question_id': 583293,\n",
              "         'text': 'máximo de seis meses',\n",
              "         'answer_start': 224,\n",
              "         'answer_end': 244,\n",
              "         'answer_category': None}],\n",
              "       'is_impossible': False},\n",
              "      {'question': '¿Cuales el decreto de la resoluón?',\n",
              "       'id': 583294,\n",
              "       'answers': [{'answer_id': 642386,\n",
              "         'document_id': 1173235,\n",
              "         'question_id': 583294,\n",
              "         'text': 'artículo 44 del Real Decreto 220/2022, de 29 de marzo',\n",
              "         'answer_start': 78,\n",
              "         'answer_end': 131,\n",
              "         'answer_category': None}],\n",
              "       'is_impossible': False},\n",
              "      {'question': '¿Tiempo para la norificación de la resolución?',\n",
              "       'id': 583295,\n",
              "       'answers': [{'answer_id': 642387,\n",
              "         'document_id': 1173235,\n",
              "         'question_id': 583295,\n",
              "         'text': 'seis meses',\n",
              "         'answer_start': 234,\n",
              "         'answer_end': 244,\n",
              "         'answer_category': None}],\n",
              "       'is_impossible': False}],\n",
              "     'context': 'Plazo de resolución de la autorización para la acción concertada. Conforme al artículo 44 del Real Decreto 220/2022, de 29 de marzo, la resolución de autorización se dictará y notificará a la entidad solicitante en el plazo máximo de seis meses, contados desde la fecha de presentación de la solicitud de dé inicio al procedimiento.\\n',\n",
              "     'document_id': 1173235}]},\n",
              "  {'paragraphs': [{'qas': [{'question': '¿Que servicios y prestaciones tienen CAR?',\n",
              "       'id': 583277,\n",
              "       'answers': [{'answer_id': 642369,\n",
              "         'document_id': 1173230,\n",
              "         'question_id': 583277,\n",
              "         'text': 'Alojamiento y manutención temporal.\\nInformación y asesoramiento sobre nueva situación.\\nOrientación para su incorporación al sistema educativo, sanitario y social.\\nAtención psicológica.\\nAtención social especializada y gestión de ayudas económicas complementarias.\\nDesarrollo de cursos para aprendizaje de la lengua y de habilidades sociales básicas.\\nOrientación e intermediación para la formación profesional e inserción laboral.\\nActividades ocupacionales y de ocio y tiempo libre.\\nActividades de sensibilización y de divulgación de la actuación del C.A.R. dirigidas a la sociedad de acogida.',\n",
              "         'answer_start': 0,\n",
              "         'answer_end': 591,\n",
              "         'answer_category': None}],\n",
              "       'is_impossible': False},\n",
              "      {'question': '¿Que servicios y prestaciones tienen C.A.R?',\n",
              "       'id': 583278,\n",
              "       'answers': [{'answer_id': 642370,\n",
              "         'document_id': 1173230,\n",
              "         'question_id': 583278,\n",
              "         'text': 'Alojamiento y manutención temporal.\\nInformación y asesoramiento sobre nueva situación.\\nOrientación para su incorporación al sistema educativo, sanitario y social.\\nAtención psicológica.\\nAtención social especializada y gestión de ayudas económicas complementarias.\\nDesarrollo de cursos para aprendizaje de la lengua y de habilidades sociales básicas.\\nOrientación e intermediación para la formación profesional e inserción laboral.\\nActividades ocupacionales y de ocio y tiempo libre.\\nActividades de sensibilización y de divulgación de la actuación del C.A.R',\n",
              "         'answer_start': 0,\n",
              "         'answer_end': 554,\n",
              "         'answer_category': None}],\n",
              "       'is_impossible': False},\n",
              "      {'question': '¿Que servicios y prestaciones tienen el Centro de Acogida a Refugiados?',\n",
              "       'id': 583279,\n",
              "       'answers': [{'answer_id': 642371,\n",
              "         'document_id': 1173230,\n",
              "         'question_id': 583279,\n",
              "         'text': 'Alojamiento y manutención temporal.\\nInformación y asesoramiento sobre nueva situación.\\nOrientación para su incorporación al sistema educativo, sanitario y social.\\nAtención psicológica.\\nAtención social especializada y gestión de ayudas económicas complementarias.\\nDesarrollo de cursos para aprendizaje de la lengua y de habilidades sociales básicas.\\nOrientación e intermediación para la formación profesional e inserción laboral.\\nActividades ocupacionales y de ocio y tiempo libre.\\nActividades de sensibilización y de divulgación',\n",
              "         'answer_start': 0,\n",
              "         'answer_end': 528,\n",
              "         'answer_category': None}],\n",
              "       'is_impossible': False}],\n",
              "     'context': 'Alojamiento y manutención temporal.\\nInformación y asesoramiento sobre nueva situación.\\nOrientación para su incorporación al sistema educativo, sanitario y social.\\nAtención psicológica.\\nAtención social especializada y gestión de ayudas económicas complementarias.\\nDesarrollo de cursos para aprendizaje de la lengua y de habilidades sociales básicas.\\nOrientación e intermediación para la formación profesional e inserción laboral.\\nActividades ocupacionales y de ocio y tiempo libre.\\nActividades de sensibilización y de divulgación de la actuación del C.A.R. dirigidas a la sociedad de acogida.',\n",
              "     'document_id': 1173230}]},\n",
              "  {'paragraphs': [{'qas': [{'question': '¿Las cuantias de ayudas?',\n",
              "       'id': 583297,\n",
              "       'answers': [{'answer_id': 642389,\n",
              "         'document_id': 1173236,\n",
              "         'question_id': 583297,\n",
              "         'text': 'serán las mismas y en los mismos términos que las establecidas en la Resolución de 2015',\n",
              "         'answer_start': 218,\n",
              "         'answer_end': 305,\n",
              "         'answer_category': None}],\n",
              "       'is_impossible': False},\n",
              "      {'question': '¿La normativa para ayuda economica?',\n",
              "       'id': 583296,\n",
              "       'answers': [{'answer_id': 642388,\n",
              "         'document_id': 1173236,\n",
              "         'question_id': 583296,\n",
              "         'text': ' RD 865-2006 Normas reguladoras ayudas CM',\n",
              "         'answer_start': 52,\n",
              "         'answer_end': 93,\n",
              "         'answer_category': None}],\n",
              "       'is_impossible': False}],\n",
              "     'context': 'Ayudas económicas a los beneficiarios de los CAR:    RD 865-2006 Normas reguladoras ayudas CM.\\n2015 Resolución ayudas Centros.\\n2017 Resolución ayudas Centros . Las cuantías máximas establecidas para cada tipo de ayuda serán las mismas y en los mismos términos que las establecidas en la Resolución de 2015.',\n",
              "     'document_id': 1173236}]},\n",
              "  {'paragraphs': [{'qas': [{'question': '¿Cunato tiempo dura la estancia?',\n",
              "       'id': 583286,\n",
              "       'answers': [{'answer_id': 642378,\n",
              "         'document_id': 1173232,\n",
              "         'question_id': 583286,\n",
              "         'text': 'seis meses',\n",
              "         'answer_start': 50,\n",
              "         'answer_end': 60,\n",
              "         'answer_category': None}],\n",
              "       'is_impossible': False},\n",
              "      {'question': '¿Cunato tiempo puedo estar en el centro?',\n",
              "       'id': 583287,\n",
              "       'answers': [{'answer_id': 642379,\n",
              "         'document_id': 1173232,\n",
              "         'question_id': 583287,\n",
              "         'text': 'seis meses',\n",
              "         'answer_start': 50,\n",
              "         'answer_end': 60,\n",
              "         'answer_category': None}],\n",
              "       'is_impossible': False},\n",
              "      {'question': '¿Cuantos dias tiene cuando esta denegada?',\n",
              "       'id': 583288,\n",
              "       'answers': [{'answer_id': 642380,\n",
              "         'document_id': 1173232,\n",
              "         'question_id': 583288,\n",
              "         'text': 'quince días',\n",
              "         'answer_start': 226,\n",
              "         'answer_end': 237,\n",
              "         'answer_category': None}],\n",
              "       'is_impossible': False},\n",
              "      {'question': '¿periodo disponible cuando esta denegada en el centro?',\n",
              "       'id': 583289,\n",
              "       'answers': [{'answer_id': 642381,\n",
              "         'document_id': 1173232,\n",
              "         'question_id': 583289,\n",
              "         'text': 'quince días',\n",
              "         'answer_start': 226,\n",
              "         'answer_end': 237,\n",
              "         'answer_category': None}],\n",
              "       'is_impossible': False},\n",
              "      {'question': '¿De que depende la prórroga de estancia?',\n",
              "       'id': 583290,\n",
              "       'answers': [{'answer_id': 642382,\n",
              "         'document_id': 1173232,\n",
              "         'question_id': 583290,\n",
              "         'text': 'Su duración dependerá de las características individuales de cada caso, tras la propuesta de la dirección del centro de forma motivada.',\n",
              "         'answer_start': 570,\n",
              "         'answer_end': 705,\n",
              "         'answer_category': None}],\n",
              "       'is_impossible': False}],\n",
              "     'context': 'La estancia en los centros tendrá una duración de seis meses, salvo que con anterioridad al transcurso de este período sea resuelto el expediente administrativo. En caso de resolución denegatoria, el beneficiario dispondrá de quince días para abandonar el centro.\\n\\nExcepcionalmente, y por razones de necesidad, previo informe del equipo técnico la Dirección del centro podrá proponer a la Dirección General de Inclusión y Atención Humanitaria la autorización, por una sola vez, de una prórroga de estancia hasta la notificación de la resolución del expediente de asilo. Su duración dependerá de las características individuales de cada caso, tras la propuesta de la dirección del centro de forma motivada.',\n",
              "     'document_id': 1173232}]},\n",
              "  {'paragraphs': [{'qas': [{'question': '¿Donde se presenta la solicitud?',\n",
              "       'id': 583298,\n",
              "       'answers': [{'answer_id': 642390,\n",
              "         'document_id': 1173237,\n",
              "         'question_id': 583298,\n",
              "         'text': 'la SEDE de Acción Concertada de Protección Internacional.',\n",
              "         'answer_start': 320,\n",
              "         'answer_end': 377,\n",
              "         'answer_category': None}],\n",
              "       'is_impossible': False}],\n",
              "     'context': 'El procedimiento de autorización de acción concertada se iniciará mediante la presentación de la correspondiente solicitud por la entidad interesada, de conformidad con lo establecido en el artículo 14.2 de la Ley 39/2015, de 1 de octubre, dirigida al órgano de concertación.\\n\\nLas solicitudes se presentarán a través de la SEDE de Acción Concertada de Protección Internacional.',\n",
              "     'document_id': 1173237}]}]}"
            ]
          },
          "metadata": {},
          "execution_count": 94
        }
      ]
    },
    {
      "cell_type": "markdown",
      "source": [
        "Buscamos que los datos queden en el formato especificado en la captura de pantalla de arriba: filtramos y cambiamos nombre de etiqueta de diccionario"
      ],
      "metadata": {
        "id": "cCaSTy8aJwXS"
      }
    },
    {
      "cell_type": "code",
      "source": [
        "#A continuación, filtramos un contexto (ejemplo)\n",
        "train_data_context_0=train_data[\"data\"][0][\"paragraphs\"][0][\"context\"]\n",
        "train_data_context_0"
      ],
      "metadata": {
        "colab": {
          "base_uri": "https://localhost:8080/",
          "height": 70
        },
        "id": "F9zRj1VAdveX",
        "outputId": "320fd6e9-92ec-455d-b93e-dd8aa97f27eb"
      },
      "execution_count": 95,
      "outputs": [
        {
          "output_type": "execute_result",
          "data": {
            "text/plain": [
              "'Las subvenciones concedidas a las ONG para la acogida y la integración de quienes conforman estos colectivos están financiadas con fondos que provienen de los presupuestos de la Secretaría General de Inmigración y Emigración, recibiendo cofinanciación, en algunos programas, del Fondo Social Europeo y del Fondo de Asilo, Migración e Integración.'"
            ],
            "application/vnd.google.colaboratory.intrinsic+json": {
              "type": "string"
            }
          },
          "metadata": {},
          "execution_count": 95
        }
      ]
    },
    {
      "cell_type": "code",
      "source": [
        "#Generamos nuevo diccionario con el formato especificado, aplicando el filtro del paso anterior"
      ],
      "metadata": {
        "id": "rJpTdUbgPMHr"
      },
      "execution_count": 96,
      "outputs": []
    },
    {
      "cell_type": "code",
      "source": [
        "index1=int(0)+2\n",
        "type(index1)\n",
        "test=train_data[\"data\"][index1][\"paragraphs\"][0][\"context\"]\n",
        "test"
      ],
      "metadata": {
        "colab": {
          "base_uri": "https://localhost:8080/",
          "height": 70
        },
        "id": "FcNxZ-UXVpgL",
        "outputId": "50cd2e89-c094-46e4-e370-a0099d2940e3"
      },
      "execution_count": 97,
      "outputs": [
        {
          "output_type": "execute_result",
          "data": {
            "text/plain": [
              "'El Alto Comisionado de las Naciones Unidas para los Refugiados (ACNUR), organismo de las Naciones Unidas encargado de proteger a los refugiados y desplazados por persecuciones o conflictos, debe intervenir, de acuerdo con la legislación en vigor, en el procedimiento de concesión del derecho de asilo. En base a esta colaboración, el ACNUR recibe una subvención de la Dirección General de Migraciones.'"
            ],
            "application/vnd.google.colaboratory.intrinsic+json": {
              "type": "string"
            }
          },
          "metadata": {},
          "execution_count": 97
        }
      ]
    },
    {
      "cell_type": "code",
      "source": [
        "train_data_contexts=\"\"\n",
        "index1=int(0)\n",
        "\n",
        "for i in train_data[\"data\"]:\n",
        "  train_data_contexts=train_data_contexts+'{\"text\": '+ train_data[\"data\"][index1][\"paragraphs\"][0][\"context\"]+'}\\n'\n",
        "  index1=index1+1\n",
        "\n",
        "print(train_data_contexts)"
      ],
      "metadata": {
        "colab": {
          "base_uri": "https://localhost:8080/"
        },
        "id": "FVLLqxSoLHXt",
        "outputId": "0048ccef-0793-439b-c9f3-8fe1be038077"
      },
      "execution_count": 98,
      "outputs": [
        {
          "output_type": "stream",
          "name": "stdout",
          "text": [
            "{\"text\": Las subvenciones concedidas a las ONG para la acogida y la integración de quienes conforman estos colectivos están financiadas con fondos que provienen de los presupuestos de la Secretaría General de Inmigración y Emigración, recibiendo cofinanciación, en algunos programas, del Fondo Social Europeo y del Fondo de Asilo, Migración e Integración.}\n",
            "{\"text\": Centro de Acogida a Refugiados (C.A.R.). Son establecimientos públicos destinados a prestar alojamiento, manutención y asistencia psicosocial urgente y primaria, así como otros servicios sociales encaminados a facilitar la convivencia e integrar en la comunidad a las personas que solicitan asilo en España u obtengan la condición de refugiado o desplazado en España y que carezcan de medios económicos para atender a sus necesidades y a las de su familia.}\n",
            "{\"text\": El Alto Comisionado de las Naciones Unidas para los Refugiados (ACNUR), organismo de las Naciones Unidas encargado de proteger a los refugiados y desplazados por persecuciones o conflictos, debe intervenir, de acuerdo con la legislación en vigor, en el procedimiento de concesión del derecho de asilo. En base a esta colaboración, el ACNUR recibe una subvención de la Dirección General de Migraciones.}\n",
            "{\"text\": Las ayudas para gastos personales y de transporte se podrán solicitar desde el momento del ingreso del beneficiario en el centro y en función de su situación personal.\n",
            "Los demás gastos se podrán solicitar a lo largo de la estancia del beneficiario en el centro, cuando se produzca la circunstancia que dé lugar al mismo.}\n",
            "{\"text\": Podrán ser beneficiarios de los Centros de Acogida a Refugiados de la Dirección General de Inclusión y Atención Humanitaria, las personas que reúnan alguna de las siguientes condiciones:\n",
            "\n",
            "Haber solicitado o ser beneficiario de proteccion internacional en España.\n",
            "Estar en posesión del documento pertinente que acredite su condición de solicitante o beneficiario de proteccion internacional del estatuto de apatrida o protección temporal en España.\n",
            "Haber solicitado proteccion internacional y no ser admitida a trámite la solicitud, cuando haya aceptado un Estado miembro la responsabilidad de examinar su solicitud de asilo en virtud del Reglamento (CE) 343/2003 del Consejo de 18 de febrero de 2003 por el que se establecen los criterios y mecanismos de determinación del Estado miembro responsable del examen de una solicitud de asilo presentada en uno de los estados miembros por un nacional de un tercer país, durante el plazo previsto para gestionar el traslado al país que haya aceptado su toma a cargo.\n",
            "En todos los supuestos les serán de aplicación los siguientes requisitos:\n",
            "\n",
            "Carecer de trabajo o de medios económicos para atender sus necesidades y las de su familia.\n",
            "No padecer enfermedades transmisibles o discapacidades fisicas o psíquicas que puedan alterar la normal convivencia en el centro.\n",
            "Aceptación expresa de la normativa por la que se rige el centro.}\n",
            "{\"text\": Plazo de resolución de la autorización para la acción concertada. Conforme al artículo 44 del Real Decreto 220/2022, de 29 de marzo, la resolución de autorización se dictará y notificará a la entidad solicitante en el plazo máximo de seis meses, contados desde la fecha de presentación de la solicitud de dé inicio al procedimiento.\n",
            "}\n",
            "{\"text\": Alojamiento y manutención temporal.\n",
            "Información y asesoramiento sobre nueva situación.\n",
            "Orientación para su incorporación al sistema educativo, sanitario y social.\n",
            "Atención psicológica.\n",
            "Atención social especializada y gestión de ayudas económicas complementarias.\n",
            "Desarrollo de cursos para aprendizaje de la lengua y de habilidades sociales básicas.\n",
            "Orientación e intermediación para la formación profesional e inserción laboral.\n",
            "Actividades ocupacionales y de ocio y tiempo libre.\n",
            "Actividades de sensibilización y de divulgación de la actuación del C.A.R. dirigidas a la sociedad de acogida.}\n",
            "{\"text\": Ayudas económicas a los beneficiarios de los CAR:    RD 865-2006 Normas reguladoras ayudas CM.\n",
            "2015 Resolución ayudas Centros.\n",
            "2017 Resolución ayudas Centros . Las cuantías máximas establecidas para cada tipo de ayuda serán las mismas y en los mismos términos que las establecidas en la Resolución de 2015.}\n",
            "{\"text\": La estancia en los centros tendrá una duración de seis meses, salvo que con anterioridad al transcurso de este período sea resuelto el expediente administrativo. En caso de resolución denegatoria, el beneficiario dispondrá de quince días para abandonar el centro.\n",
            "\n",
            "Excepcionalmente, y por razones de necesidad, previo informe del equipo técnico la Dirección del centro podrá proponer a la Dirección General de Inclusión y Atención Humanitaria la autorización, por una sola vez, de una prórroga de estancia hasta la notificación de la resolución del expediente de asilo. Su duración dependerá de las características individuales de cada caso, tras la propuesta de la dirección del centro de forma motivada.}\n",
            "{\"text\": El procedimiento de autorización de acción concertada se iniciará mediante la presentación de la correspondiente solicitud por la entidad interesada, de conformidad con lo establecido en el artículo 14.2 de la Ley 39/2015, de 1 de octubre, dirigida al órgano de concertación.\n",
            "\n",
            "Las solicitudes se presentarán a través de la SEDE de Acción Concertada de Protección Internacional.}\n",
            "\n"
          ]
        }
      ]
    },
    {
      "cell_type": "markdown",
      "metadata": {
        "id": "58b6c66e"
      },
      "source": [
        "A partir de aquí la variable `train_data` tiene el mismo formato que el de github."
      ]
    },
    {
      "cell_type": "code",
      "execution_count": 99,
      "metadata": {
        "id": "007149dc",
        "colab": {
          "base_uri": "https://localhost:8080/",
          "height": 140
        },
        "outputId": "d8bd3037-3aa4-45bd-fb6f-467a84dba739"
      },
      "outputs": [
        {
          "output_type": "execute_result",
          "data": {
            "text/plain": [
              "'{\"text\": Las subvenciones concedidas a las ONG para la acogida y la integración de quienes conforman estos colectivos están financiadas con fondos que provienen de los presupuestos de la Secretaría General de Inmigración y Emigración, recibiendo cofinanciación, en algunos programas, del Fondo Social Europeo y del Fondo de Asilo, Migración e Integración.}\\n{\"text\": Centro de Acogida a Refugiados (C.A.R.). Son establecimientos públicos destinados a prestar alojamiento, manutención y asistencia psicosocial urgente y primaria, así como otros servicios sociales encaminados a facilitar la convivencia e integrar en la comunidad a las personas que solicitan asilo en España u obtengan la condición de refugiado o desplazado en España y que carezcan de medios económicos para atender a sus necesidades y a las de su familia.}\\n{\"text\": El Alto Comisionado de las Naciones Unidas para los Refugiados (ACNUR), organismo de las Naciones Unidas encargado de proteger a los refugiados y desplazados por persecuciones o conflictos, debe intervenir, de acuerdo con la legislación en vigor, en el procedimiento de concesión del derecho de asilo. En base a esta colaboración, el ACNUR recibe una subvención de la Dirección General de Migraciones.}\\n{\"text\": Las ayudas para gastos personales y de transporte se podrán solicitar desde el momento del ingreso del beneficiario en el centro y en función de su situación personal.\\nLos demás gastos se podrán solicitar a lo largo de la estancia del beneficiario en el centro, cuando se produzca la circunstancia que dé lugar al mismo.}\\n{\"text\": Podrán ser beneficiarios de los Centros de Acogida a Refugiados de la Dirección General de Inclusión y Atención Humanitaria, las personas que reúnan alguna de las siguientes condiciones:\\n\\nHaber solicitado o ser beneficiario de proteccion internacional en España.\\nEstar en posesión del documento pertinente que acredite su condición de solicitante o beneficiario de proteccion internacional del estatuto de apatrida o protección temporal en España.\\nHaber solicitado proteccion internacional y no ser admitida a trámite la solicitud, cuando haya aceptado un Estado miembro la responsabilidad de examinar su solicitud de asilo en virtud del Reglamento (CE) 343/2003 del Consejo de 18 de febrero de 2003 por el que se establecen los criterios y mecanismos de determinación del Estado miembro responsable del examen de una solicitud de asilo presentada en uno de los estados miembros por un nacional de un tercer país, durante el plazo previsto para gestionar el traslado al país que haya aceptado su toma a cargo.\\nEn todos los supuestos les serán de aplicación los siguientes requisitos:\\n\\nCarecer de trabajo o de medios económicos para atender sus necesidades y las de su familia.\\nNo padecer enfermedades transmisibles o discapacidades fisicas o psíquicas que puedan alterar la normal convivencia en el centro.\\nAceptación expresa de la normativa por la que se rige el centro.}\\n{\"text\": Plazo de resolución de la autorización para la acción concertada. Conforme al artículo 44 del Real Decreto 220/2022, de 29 de marzo, la resolución de autorización se dictará y notificará a la entidad solicitante en el plazo máximo de seis meses, contados desde la fecha de presentación de la solicitud de dé inicio al procedimiento.\\n}\\n{\"text\": Alojamiento y manutención temporal.\\nInformación y asesoramiento sobre nueva situación.\\nOrientación para su incorporación al sistema educativo, sanitario y social.\\nAtención psicológica.\\nAtención social especializada y gestión de ayudas económicas complementarias.\\nDesarrollo de cursos para aprendizaje de la lengua y de habilidades sociales básicas.\\nOrientación e intermediación para la formación profesional e inserción laboral.\\nActividades ocupacionales y de ocio y tiempo libre.\\nActividades de sensibilización y de divulgación de la actuación del C.A.R. dirigidas a la sociedad de acogida.}\\n{\"text\": Ayudas económicas a los beneficiarios de los CAR:    RD 865-2006 Normas reguladoras ayudas CM.\\n2015 Resolución ayudas Centros.\\n2017 Resolución ayudas Centros . Las cuantías máximas establecidas para cada tipo de ayuda serán las mismas y en los mismos términos que las establecidas en la Resolución de 2015.}\\n{\"text\": La estancia en los centros tendrá una duración de seis meses, salvo que con anterioridad al transcurso de este período sea resuelto el expediente administrativo. En caso de resolución denegatoria, el beneficiario dispondrá de quince días para abandonar el centro.\\n\\nExcepcionalmente, y por razones de necesidad, previo informe del equipo técnico la Dirección del centro podrá proponer a la Dirección General de Inclusión y Atención Humanitaria la autorización, por una sola vez, de una prórroga de estancia hasta la notificación de la resolución del expediente de asilo. Su duración dependerá de las características individuales de cada caso, tras la propuesta de la dirección del centro de forma motivada.}\\n{\"text\": El procedimiento de autorización de acción concertada se iniciará mediante la presentación de la correspondiente solicitud por la entidad interesada, de conformidad con lo establecido en el artículo 14.2 de la Ley 39/2015, de 1 de octubre, dirigida al órgano de concertación.\\n\\nLas solicitudes se presentarán a través de la SEDE de Acción Concertada de Protección Internacional.}\\n'"
            ],
            "application/vnd.google.colaboratory.intrinsic+json": {
              "type": "string"
            }
          },
          "metadata": {},
          "execution_count": 99
        }
      ],
      "source": [
        "train_data=train_data_contexts\n",
        "train_data"
      ]
    },
    {
      "cell_type": "markdown",
      "source": [
        "###Vuelta al notebook original \"ES_Chatbot_bloom_17_12\""
      ],
      "metadata": {
        "id": "xCFDB6yGCzJ2"
      }
    },
    {
      "cell_type": "code",
      "source": [
        "from transformers import AutoModelForCausalLM, AutoTokenizer\n",
        "\n",
        "tokenizer = AutoTokenizer.from_pretrained(\"bigscience/bloomz-1b1\")\n",
        "model = AutoModelForCausalLM.from_pretrained(\"bigscience/bloomz-1b1\")"
      ],
      "metadata": {
        "id": "wL8Ay9wSzE_y"
      },
      "execution_count": null,
      "outputs": []
    },
    {
      "cell_type": "code",
      "source": [
        "!python -m spacy download es_core_news_sm\n",
        "import es_core_news_sm\n",
        "nlp = es_core_news_sm.load()"
      ],
      "metadata": {
        "id": "Le2tCOgPtqA-"
      },
      "execution_count": null,
      "outputs": []
    },
    {
      "cell_type": "code",
      "source": [
        "# Definimos una función que procesa la respuesta del modelo y reemplaza las entidades nombradas por su descripción más detallada\n",
        "def procesar_respuesta(respuesta):\n",
        "  # Primero, procesamos la respuesta con spacy para detectar entidades nombradas\n",
        "  doc = nlp(respuesta)\n",
        "\n",
        "  # Luego, reemplazamos cada entidad nombrada por su descripción más detallada\n",
        "  for ent in doc.ents:\n",
        "    respuesta = respuesta.replace(ent.text, ent.description)\n",
        "\n",
        "  # Finalmente, devolvemos la respuesta procesada\n",
        "  return respuesta\n"
      ],
      "metadata": {
        "id": "G_P-uTSoudpf"
      },
      "execution_count": null,
      "outputs": []
    },
    {
      "cell_type": "code",
      "source": [
        "# Obtener la respuesta del modelo a la pregunta \"¿...?\"\n",
        "input_text = \"¿Por que el cielo es azul?\"\n",
        "input_ids = tokenizer.encode(input_text, return_tensors='pt')\n",
        "outputs = model.generate(input_ids)\n"
      ],
      "metadata": {
        "id": "YSS_f9oMumoH"
      },
      "execution_count": null,
      "outputs": []
    },
    {
      "cell_type": "code",
      "source": [
        "# Decodificar la respuesta del modelo y procesarla con la función procesar_respuesta\n",
        "respuesta = tokenizer.decode(outputs[0])\n",
        "respuesta_procesada = procesar_respuesta(respuesta)\n",
        "\n",
        "# Mostrar la respuesta procesada en pantalla\n",
        "print(respuesta_procesada)"
      ],
      "metadata": {
        "id": "ujs6GBfUup8m"
      },
      "execution_count": null,
      "outputs": []
    },
    {
      "cell_type": "markdown",
      "source": [
        "###2.Guardar modelo entrenado en fichero"
      ],
      "metadata": {
        "id": "FWu6sEBRJv64"
      }
    },
    {
      "cell_type": "code",
      "source": [],
      "metadata": {
        "id": "Uzy4EHYbKOZG"
      },
      "execution_count": null,
      "outputs": []
    },
    {
      "cell_type": "markdown",
      "source": [
        "###Vuelta al notebook original \"ES_Chatbot_bloom_17_12\""
      ],
      "metadata": {
        "id": "bFzhrsFZKFqN"
      }
    },
    {
      "cell_type": "code",
      "source": [],
      "metadata": {
        "id": "nI_5j6okKPXM"
      },
      "execution_count": null,
      "outputs": []
    },
    {
      "cell_type": "markdown",
      "source": [
        "# Resultado:\n",
        "Con el recurso disponible es es el mejor resultado que me dio."
      ],
      "metadata": {
        "id": "gqNCvZG8Mlc9"
      }
    },
    {
      "cell_type": "markdown",
      "source": [
        "![imagen.png](data:image/png;base64,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)"
      ],
      "metadata": {
        "id": "Sneb-tgxMfpm"
      }
    },
    {
      "cell_type": "code",
      "source": [
        "# ***SM: Falta:\n",
        "# 1.adaptar e incluir bdd, a considerar para el entrenamiento; y\n",
        "# 2.añadir código para guardar el nuevo modelo"
      ],
      "metadata": {
        "id": "DmZXue9zAYrW"
      },
      "execution_count": null,
      "outputs": []
    }
  ]
}