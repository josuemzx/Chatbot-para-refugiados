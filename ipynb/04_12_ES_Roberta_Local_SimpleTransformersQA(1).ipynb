{
  "nbformat": 4,
  "nbformat_minor": 0,
  "metadata": {
    "colab": {
      "provenance": [],
      "private_outputs": true
    },
    "kernelspec": {
      "name": "python3",
      "display_name": "Python 3"
    },
    "language_info": {
      "name": "python"
    },
    "accelerator": "GPU",
    "gpuClass": "standard"
  },
  "cells": [
    {
      "cell_type": "markdown",
      "source": [
        "https://simpletransformers.ai/docs/qa-minimal-start/ (Explicativo de web)\n"
      ],
      "metadata": {
        "id": "87TEJpP9ZEn_"
      }
    },
    {
      "cell_type": "markdown",
      "source": [],
      "metadata": {
        "id": "bMljOPrRwRtg"
      }
    },
    {
      "cell_type": "code",
      "execution_count": null,
      "metadata": {
        "id": "ksnzQFp6wLtR"
      },
      "outputs": [],
      "source": [
        "!pip install -Uq wandb"
      ]
    },
    {
      "cell_type": "code",
      "source": [
        "import wandb\n",
        "\n",
        "# wandb.login()\n",
        "wandb_project = \"SimpleTransformers-QA\""
      ],
      "metadata": {
        "id": "oFkuUIhKwYmH"
      },
      "execution_count": null,
      "outputs": []
    },
    {
      "cell_type": "code",
      "source": [
        "%%capture\n",
        "!pip install simpletransformers"
      ],
      "metadata": {
        "id": "RmamGZr8wave"
      },
      "execution_count": null,
      "outputs": []
    },
    {
      "cell_type": "code",
      "source": [
        "\n",
        "\n",
        "import os\n",
        "import requests\n",
        "import json\n"
      ],
      "metadata": {
        "id": "7RCw_GfeFaOU"
      },
      "execution_count": null,
      "outputs": []
    },
    {
      "cell_type": "code",
      "source": [
        "import logging\n",
        "\n",
        "from simpletransformers.question_answering import QuestionAnsweringModel, QuestionAnsweringArgs"
      ],
      "metadata": {
        "id": "HDWcaDdFwwtv"
      },
      "execution_count": null,
      "outputs": []
    },
    {
      "cell_type": "code",
      "source": [
        "logging.basicConfig(level=logging.INFO)\n",
        "transformers_logger = logging.getLogger(\"transformers\")\n",
        "transformers_logger.setLevel(logging.WARNING)\n",
        "\n",
        "# train_data = [\n",
        "#     {\n",
        "#         \"context\": \"Las subvenciones concedidas a las ONG para la acogida y la integración de quienes conforman estos colectivos están financiadas con fondos que provienen de los presupuestos de la Secretaría General de Inmigración y Emigración, recibiendo cofinanciación, en algunos programas, del Fondo Social Europeo y del Fondo de Asilo, Migración e Integración.\",\n",
        "#         \"qas\": [\n",
        "#             {\n",
        "#                 \"id\": \"00001\",\n",
        "#                 \"is_impossible\": False,\n",
        "#                 \"question\":  \"¿Donde provienen las subvenciones?\",\n",
        "#                 \"answers\": [\n",
        "#                     {\n",
        "#                          \"text\": \"de la Secretaría General de Inmigración y Emigración, recibiendo cofinanciación, en algunos programas, del Fondo Social Europeo y del Fondo de Asilo, Migración e Integración.\",\n",
        "#                           \"answer_start\": 172,\n",
        "                          \n",
        "#                     }\n",
        "#                 ],\n",
        "#             }\n",
        "#         ],\n",
        "#     },\n",
        "#     {\n",
        "#       \"context\": \"Centro de Acogida a Refugiados (C.A.R.). Son establecimientos públicos destinados a prestar alojamiento, manutención y asistencia psicosocial urgente y primaria, así como otros servicios sociales encaminados a facilitar la convivencia e integrar en la comunidad a las personas que solicitan asilo en España u obtengan la condición de refugiado o desplazado en España y que carezcan de medios económicos para atender a sus necesidades y a las de su familia.\",   \n",
        "#        \"qas\": [\n",
        "#             {\n",
        "            \n",
        "#                 \"id\": \"00002\",\n",
        "#                 \"is_impossible\": False,\n",
        "#                 \"question\":\"¿Donde pueden ir los refugiados?\",\n",
        "#                 \"answers\": [\n",
        "#                     {\n",
        "#                         \"text\": \"España \",\n",
        "#                         \"answer_start\": 300,\n",
        "                        \n",
        "#                     }\n",
        "#                 ],\n",
        "#             },\n",
        "#             {\n",
        "#                 \"id\": \"00003\",\n",
        "#                 \"is_impossible\": False,\n",
        "#                 \"question\": \"¿Que significa C.A.R?\",\n",
        "#                 \"answers\": [\n",
        "#                     {\n",
        "#                         \"text\": \"Centro de Acogida a Refugiados\",\n",
        "#                         \"answer_start\": 0,\n",
        "                      \n",
        "#                     }\n",
        "#                 ],\n",
        "#             },\n",
        "#             {\n",
        "#                 \"id\": \"00004\",\n",
        "#                 \"is_impossible\": True,\n",
        "#                 \"question\": \"¿Donde pueden ir los refugiados?\",\n",
        "#                  \"answers\": [],\n",
        "#                     #  {\n",
        "#                     #     \"text\": \"España \",\n",
        "#                     #     \"answer_start\": 300,\n",
        "#                     #     \"answer_end\": 307,\n",
        "                  \n",
        "#                     #   }\n",
        "                                                          \n",
        "            \n",
        "#             },\n",
        "#         ],\n",
        "#     },\n",
        "# ]\n",
        "\n",
        "\n",
        "\n",
        "\n",
        "\n",
        "\n",
        "# eval_data = [\n",
        "#     {\n",
        "#         \"context\": \"Artículo 16. Derecho a solicitar protección internacional.\\n\\n1. Las personas nacionales no comunitarias y las apátridas presentes en territorio español tienen derecho a solicitar protección internacional en España.\\n\\n2. Para su ejercicio, los solicitantes de protección internacional tendrán derecho a asistencia sanitaria y a asistencia jurídica gratuita, que se extenderá a la formalización de la solicitud y a toda la tramitación del procedimiento, y que se prestará en los términos previstos en la legislación española en esta materia, así como derecho a intérprete en los términos del artículo 22 de la Ley Orgánica 4/2000.\\n\\nLa asistencia jurídica referida en el párrafo anterior será preceptiva cuando las solicitudes se formalicen de acuerdo al procedimiento señalado en el artículo 21 de la presente Ley.\\n\\n3. La presentación de la solicitud conllevará la valoración de las circunstancias determinantes del reconocimiento de la condición de refugiado, así como de la concesión de la protección subsidiaria. De este extremo se informará en debida forma al solicitante.\\n\\n4. Toda información relativa al procedimiento, incluido el hecho de la presentación de la solicitud, tendrá carácter confidencial.\",\n",
        "         \n",
        "#         \"qas\": [\n",
        "#             {\n",
        "#                 \"id\": \"00001\",\n",
        "#                 \"is_impossible\": False,\n",
        "#                 \"question\": \"¿Puedo solicitar traductor?\",\n",
        "#                 \"answers\": [\n",
        "#                     {\n",
        "#                         \"text\": \"derecho a intérprete\",\n",
        "#                         \"answer_start\": 547,\n",
        "                        \n",
        "#                     },\n",
        "#                     {\n",
        "#                         \"text\": \"world called Scadrial\",\n",
        "#                         \"answer_start\": 74,\n",
        "#                     },\n",
        "#                 ],\n",
        "#             }\n",
        "#         ],\n",
        "#     },\n",
        "#     {\n",
        "#         \"context\": \"Artículo 16. Derecho a solicitar protección internacional.\\n\\n1. Las personas nacionales no comunitarias y las apátridas presentes en territorio español tienen derecho a solicitar protección internacional en España.\\n\\n2. Para su ejercicio, los solicitantes de protección internacional tendrán derecho a asistencia sanitaria y a asistencia jurídica gratuita, que se extenderá a la formalización de la solicitud y a toda la tramitación del procedimiento, y que se prestará en los términos previstos en la legislación española en esta materia, así como derecho a intérprete en los términos del artículo 22 de la Ley Orgánica 4/2000.\\n\\nLa asistencia jurídica referida en el párrafo anterior será preceptiva cuando las solicitudes se formalicen de acuerdo al procedimiento señalado en el artículo 21 de la presente Ley.\\n\\n3. La presentación de la solicitud conllevará la valoración de las circunstancias determinantes del reconocimiento de la condición de refugiado, así como de la concesión de la protección subsidiaria. De este extremo se informará en debida forma al solicitante.\\n\\n4. Toda información relativa al procedimiento, incluido el hecho de la presentación de la solicitud, tendrá carácter confidencial.\",\n",
        "         \n",
        "#         \"qas\": [\n",
        "#             {\n",
        "#                 \"id\": \"00002\",\n",
        "#                 \"is_impossible\": False,\n",
        "#                 \"question\": \"¿Tiene coste la solicitud de asistencia sanitara, asistencia juridica, interprete, formalización de la solicitu y la tramitación?\",\n",
        "            \n",
        "#                 \"answers\": [\n",
        "#                     {\n",
        "#                         \"text\": \"gratuita\",\n",
        "#                         \"answer_start\": 345,\n",
        "                        \n",
        "#                     }\n",
        "#                 ],\n",
        "#             },\n",
        "#             {\n",
        "#                 \"id\": \"00003\",\n",
        "#                 \"is_impossible\": True,\n",
        "#                 \"question\": \"¿Que puedo solicitar??\",\n",
        "#                 \"answers\": [],\n",
        "#             },\n",
        "#         ],\n",
        "#     },\n",
        "# ]\n",
        "\n"
      ],
      "metadata": {
        "id": "2hV9_MSNhWBj"
      },
      "execution_count": null,
      "outputs": []
    },
    {
      "cell_type": "code",
      "source": [
        "import json\n",
        "\n",
        "# Abrir el archivo ordenes.json\n",
        "with open(\"/content/train_data.json\") as archivo:\n",
        "    # Cargar su contenido y crear un diccionario\n",
        "    train_data = json.load(archivo)\n",
        "\n",
        "train_data = [item for topic in train_data['train_data'] for item in topic['paragraphs'] ]"
      ],
      "metadata": {
        "id": "2plkfZ6sPh2F"
      },
      "execution_count": null,
      "outputs": []
    },
    {
      "cell_type": "code",
      "source": [
        "train_data[0]"
      ],
      "metadata": {
        "id": "ejRxHifBgyI8"
      },
      "execution_count": null,
      "outputs": []
    },
    {
      "cell_type": "code",
      "source": [
        "with open('/content/eval_data.json', 'r') as f:\n",
        "    test_data = json.load(f)\n",
        "\n",
        "eval_data = [item for topic in test_data['eval_data'] for item in topic['paragraphs'] ]"
      ],
      "metadata": {
        "id": "6Fn_emMhJf2c"
      },
      "execution_count": null,
      "outputs": []
    },
    {
      "cell_type": "code",
      "source": [
        "eval_data[0]"
      ],
      "metadata": {
        "id": "2G2wWxJYCaVc"
      },
      "execution_count": null,
      "outputs": []
    },
    {
      "cell_type": "code",
      "source": [
        "# Configure the model\n",
        "model_args = QuestionAnsweringArgs(output_dir=\" train2\")\n",
        "model_args.train_batch_size = 16\n",
        "model_args.evaluate_during_training = True\n",
        "\n",
        "# model = QuestionAnsweringModel(\n",
        "#     \"roberta\", \"roberta-base\", args=model_args\n",
        "# )\n",
        "\n",
        "model = QuestionAnsweringModel(\n",
        "    \"roberta\", \"IIC/roberta-base-spanish-sqac\" , args=model_args\n",
        ")\n"
      ],
      "metadata": {
        "id": "JA9iUihPxTx4"
      },
      "execution_count": null,
      "outputs": []
    },
    {
      "cell_type": "code",
      "source": [
        "# Train the model\n",
        "model.train_model(train_data, eval_data=eval_data)"
      ],
      "metadata": {
        "id": "q0Ab9GFjxay3"
      },
      "execution_count": null,
      "outputs": []
    },
    {
      "cell_type": "code",
      "source": [
        "help(model.train_model)"
      ],
      "metadata": {
        "id": "elOnFSzrkfNx"
      },
      "execution_count": null,
      "outputs": []
    },
    {
      "cell_type": "code",
      "source": [
        "# Evaluate the model\n",
        "result, texts = model.eval_model(eval_data)"
      ],
      "metadata": {
        "id": "iP06A9Z-xcpX"
      },
      "execution_count": null,
      "outputs": []
    },
    {
      "cell_type": "code",
      "source": [
        "# Make predictions with the model\n",
        "to_predict = [\n",
        "    {\n",
        "        \"context\":\" Derecho a solicitar protección internacional.\\n\\n1. Las personas nacionales no comunitarias y las apátridas presentes en territorio español tienen derecho a solicitar protección internacional en España.\\n\\n2. Para su ejercicio, los solicitantes de protección internacional tendrán derecho a asistencia sanitaria y a asistencia jurídica gratuita, que se extenderá a la formalización de la solicitud y a toda la tramitación del procedimiento, y que se prestará en los términos previstos en la legislación española en esta materia, así como derecho a intérprete en los términos del artículo 22 de la Ley Orgánica 4/2000.\\n\\nLa asistencia jurídica referida en el párrafo anterior será preceptiva cuando las solicitudes se formalicen de acuerdo al procedimiento señalado en el artículo 21 de la presente Ley.\\n\\n3. La presentación de la solicitud conllevará la valoración de las circunstancias determinantes del reconocimiento de la condición de refugiado, así como de la concesión de la protección subsidiaria. De este extremo se informará en debida forma al solicitante.\\n\\n4. Toda información relativa al procedimiento, incluido el hecho de la presentación de la solicitud, tendrá carácter confidencial.\",\n",
        "         \n",
        "        \"qas\": [\n",
        "            {\n",
        "                \"question\": \"¿Puedo solicitar traductor?\",\n",
        "                \"id\": \"0\",\n",
        "            }\n",
        "        ],\n",
        "    }\n",
        "]\n",
        "\n",
        "answers, probabilities = model.predict(to_predict)\n",
        "\n",
        "print(answers)"
      ],
      "metadata": {
        "id": "XUgg3_6_xrTS"
      },
      "execution_count": null,
      "outputs": []
    },
    {
      "cell_type": "code",
      "source": [
        "print(answers)"
      ],
      "metadata": {
        "id": "m8ToMS1wMkD9"
      },
      "execution_count": null,
      "outputs": []
    },
    {
      "cell_type": "code",
      "source": [
        "# Make predictions with the model\n",
        "to_predict = [\n",
        "    {\n",
        "        \"context\": \"Las subvenciones concedidas a las ONG para la acogida y la integración de quienes conforman estos colectivos están financiadas con fondos que provienen de los presupuestos de la Secretaría General de Inmigración y Emigración, recibiendo cofinanciación, en algunos programas, del Fondo Social Europeo y del Fondo de Asilo, Migración e Integración.\",\n",
        "        \"qas\": [\n",
        "            {\n",
        "                \"question\": \"donde solicito las subenciones?\",\n",
        "                \"id\": \"0\",\n",
        "            }\n",
        "        ],\n",
        "    }\n",
        "]\n",
        "\n",
        "answers, probabilities = model.predict(to_predict)\n",
        "\n",
        "print(answers)"
      ],
      "metadata": {
        "id": "axtJ0Jh8LxZ3"
      },
      "execution_count": null,
      "outputs": []
    },
    {
      "cell_type": "markdown",
      "source": [
        "Ojo, si ejecuta dos veces da error por los datos guardado"
      ],
      "metadata": {
        "id": "7pn5IWfHr4ed"
      }
    },
    {
      "cell_type": "markdown",
      "source": [
        "![imagen.png](data:image/png;base64,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)"
      ],
      "metadata": {
        "id": "gBgctXnXSGcM"
      }
    },
    {
      "cell_type": "markdown",
      "source": [
        "Se ha entrenado con dataset propio antiguo, esta dando menos error que el nuevo dataset(04/12)"
      ],
      "metadata": {
        "id": "DjAHaMCRSUKF"
      }
    },
    {
      "cell_type": "code",
      "source": [],
      "metadata": {
        "id": "sbnoli_aSFj_"
      },
      "execution_count": null,
      "outputs": []
    }
  ]
}