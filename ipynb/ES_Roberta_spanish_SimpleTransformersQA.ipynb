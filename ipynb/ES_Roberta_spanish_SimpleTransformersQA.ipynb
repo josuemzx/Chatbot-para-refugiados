{
  "nbformat": 4,
  "nbformat_minor": 0,
  "metadata": {
    "colab": {
      "provenance": [],
      "private_outputs": true
    },
    "kernelspec": {
      "name": "python3",
      "display_name": "Python 3"
    },
    "language_info": {
      "name": "python"
    },
    "accelerator": "GPU",
    "gpuClass": "standard"
  },
  "cells": [
    {
      "cell_type": "markdown",
      "source": [
        "https://simpletransformers.ai/docs/qa-minimal-start/ (Explicativo de web)\n"
      ],
      "metadata": {
        "id": "87TEJpP9ZEn_"
      }
    },
    {
      "cell_type": "code",
      "source": [],
      "metadata": {
        "id": "rjR2MKz5YlXy"
      },
      "execution_count": null,
      "outputs": []
    },
    {
      "cell_type": "markdown",
      "source": [],
      "metadata": {
        "id": "bMljOPrRwRtg"
      }
    },
    {
      "cell_type": "code",
      "execution_count": null,
      "metadata": {
        "id": "ksnzQFp6wLtR"
      },
      "outputs": [],
      "source": [
        "!pip install -Uq wandb"
      ]
    },
    {
      "cell_type": "code",
      "source": [
        "import wandb\n",
        "\n",
        "# wandb.login()\n",
        "wandb_project = \"SimpleTransformers-QA\""
      ],
      "metadata": {
        "id": "oFkuUIhKwYmH"
      },
      "execution_count": null,
      "outputs": []
    },
    {
      "cell_type": "code",
      "source": [
        "%%capture\n",
        "!pip install simpletransformers"
      ],
      "metadata": {
        "id": "RmamGZr8wave"
      },
      "execution_count": null,
      "outputs": []
    },
    {
      "cell_type": "code",
      "source": [
        "import logging\n",
        "\n",
        "from simpletransformers.question_answering import QuestionAnsweringModel, QuestionAnsweringArgs\n"
      ],
      "metadata": {
        "id": "HDWcaDdFwwtv"
      },
      "execution_count": null,
      "outputs": []
    },
    {
      "cell_type": "code",
      "source": [
        "logging.basicConfig(level=logging.INFO)\n",
        "transformers_logger = logging.getLogger(\"transformers\")\n",
        "transformers_logger.setLevel(logging.WARNING)\n",
        "\n",
        "train_data = [\n",
        "    {\n",
        "        \"context\": \"Las subvenciones concedidas a las ONG para la acogida y la integración de quienes conforman estos colectivos están financiadas con fondos que provienen de los presupuestos de la Secretaría General de Inmigración y Emigración, recibiendo cofinanciación, en algunos programas, del Fondo Social Europeo y del Fondo de Asilo, Migración e Integración.\",\n",
        "        \"qas\": [\n",
        "            {\n",
        "                \"id\": \"00001\",\n",
        "                \"is_impossible\": False,\n",
        "                \"question\":  \"¿Donde provienen las subvenciones?\",\n",
        "                \"answers\": [\n",
        "                    {\n",
        "                         \"text\": \"de la Secretaría General de Inmigración y Emigración, recibiendo cofinanciación, en algunos programas, del Fondo Social Europeo y del Fondo de Asilo, Migración e Integración.\",\n",
        "                          \"answer_start\": 172,\n",
        "                          \n",
        "                    }\n",
        "                ],\n",
        "            }\n",
        "        ],\n",
        "    },\n",
        "    {\n",
        "      \"context\": \"Centro de Acogida a Refugiados (C.A.R.). Son establecimientos públicos destinados a prestar alojamiento, manutención y asistencia psicosocial urgente y primaria, así como otros servicios sociales encaminados a facilitar la convivencia e integrar en la comunidad a las personas que solicitan asilo en España u obtengan la condición de refugiado o desplazado en España y que carezcan de medios económicos para atender a sus necesidades y a las de su familia.\",   \n",
        "       \"qas\": [\n",
        "            {\n",
        "            \n",
        "                \"id\": \"00002\",\n",
        "                \"is_impossible\": False,\n",
        "                \"question\":\"¿Donde pueden ir los refugiados?\",\n",
        "                \"answers\": [\n",
        "                    {\n",
        "                        \"text\": \"España \",\n",
        "                        \"answer_start\": 300,\n",
        "                        \n",
        "                    }\n",
        "                ],\n",
        "            },\n",
        "            {\n",
        "                \"id\": \"00003\",\n",
        "                \"is_impossible\": False,\n",
        "                \"question\": \"¿Que significa C.A.R?\",\n",
        "                \"answers\": [\n",
        "                    {\n",
        "                        \"text\": \"Centro de Acogida a Refugiados\",\n",
        "                        \"answer_start\": 0,\n",
        "                      \n",
        "                    }\n",
        "                ],\n",
        "            },\n",
        "            {\n",
        "                \"id\": \"00004\",\n",
        "                \"is_impossible\": True,\n",
        "                \"question\": \"¿Donde pueden ir los refugiados?\",\n",
        "                 \"answers\": [],\n",
        "                    #  {\n",
        "                    #     \"text\": \"España \",\n",
        "                    #     \"answer_start\": 300,\n",
        "                    #     \"answer_end\": 307,\n",
        "                  \n",
        "                    #   }\n",
        "                                                          \n",
        "            \n",
        "            },\n",
        "        ],\n",
        "    },\n",
        "]\n",
        "\n",
        "\n",
        "\n",
        "\n",
        "\n",
        "\n",
        "eval_data = [\n",
        "    {\n",
        "        \"context\": \"Artículo 16. Derecho a solicitar protección internacional.\\n\\n1. Las personas nacionales no comunitarias y las apátridas presentes en territorio español tienen derecho a solicitar protección internacional en España.\\n\\n2. Para su ejercicio, los solicitantes de protección internacional tendrán derecho a asistencia sanitaria y a asistencia jurídica gratuita, que se extenderá a la formalización de la solicitud y a toda la tramitación del procedimiento, y que se prestará en los términos previstos en la legislación española en esta materia, así como derecho a intérprete en los términos del artículo 22 de la Ley Orgánica 4/2000.\\n\\nLa asistencia jurídica referida en el párrafo anterior será preceptiva cuando las solicitudes se formalicen de acuerdo al procedimiento señalado en el artículo 21 de la presente Ley.\\n\\n3. La presentación de la solicitud conllevará la valoración de las circunstancias determinantes del reconocimiento de la condición de refugiado, así como de la concesión de la protección subsidiaria. De este extremo se informará en debida forma al solicitante.\\n\\n4. Toda información relativa al procedimiento, incluido el hecho de la presentación de la solicitud, tendrá carácter confidencial.\",\n",
        "         \n",
        "        \"qas\": [\n",
        "            {\n",
        "                \"id\": \"00001\",\n",
        "                \"is_impossible\": False,\n",
        "                \"question\": \"¿Puedo solicitar traductor?\",\n",
        "                \"answers\": [\n",
        "                    {\n",
        "                        \"text\": \"derecho a intérprete\",\n",
        "                        \"answer_start\": 547,\n",
        "                        \n",
        "                    },\n",
        "                    {\n",
        "                        \"text\": \"world called Scadrial\",\n",
        "                        \"answer_start\": 74,\n",
        "                    },\n",
        "                ],\n",
        "            }\n",
        "        ],\n",
        "    },\n",
        "    {\n",
        "        \"context\": \"Artículo 16. Derecho a solicitar protección internacional.\\n\\n1. Las personas nacionales no comunitarias y las apátridas presentes en territorio español tienen derecho a solicitar protección internacional en España.\\n\\n2. Para su ejercicio, los solicitantes de protección internacional tendrán derecho a asistencia sanitaria y a asistencia jurídica gratuita, que se extenderá a la formalización de la solicitud y a toda la tramitación del procedimiento, y que se prestará en los términos previstos en la legislación española en esta materia, así como derecho a intérprete en los términos del artículo 22 de la Ley Orgánica 4/2000.\\n\\nLa asistencia jurídica referida en el párrafo anterior será preceptiva cuando las solicitudes se formalicen de acuerdo al procedimiento señalado en el artículo 21 de la presente Ley.\\n\\n3. La presentación de la solicitud conllevará la valoración de las circunstancias determinantes del reconocimiento de la condición de refugiado, así como de la concesión de la protección subsidiaria. De este extremo se informará en debida forma al solicitante.\\n\\n4. Toda información relativa al procedimiento, incluido el hecho de la presentación de la solicitud, tendrá carácter confidencial.\",\n",
        "         \n",
        "        \"qas\": [\n",
        "            {\n",
        "                \"id\": \"00002\",\n",
        "                \"is_impossible\": False,\n",
        "                \"question\": \"¿Tiene coste la solicitud de asistencia sanitara, asistencia juridica, interprete, formalización de la solicitu y la tramitación?\",\n",
        "            \n",
        "                \"answers\": [\n",
        "                    {\n",
        "                        \"text\": \"gratuita\",\n",
        "                        \"answer_start\": 345,\n",
        "                        \n",
        "                    }\n",
        "                ],\n",
        "            },\n",
        "            {\n",
        "                \"id\": \"00003\",\n",
        "                \"is_impossible\": True,\n",
        "                \"question\": \"¿Que puedo solicitar??\",\n",
        "                \"answers\": [],\n",
        "            },\n",
        "        ],\n",
        "    },\n",
        "]\n",
        "\n"
      ],
      "metadata": {
        "id": "2hV9_MSNhWBj"
      },
      "execution_count": null,
      "outputs": []
    },
    {
      "cell_type": "code",
      "source": [
        "# Configure the model\n",
        "model_args = QuestionAnsweringArgs()\n",
        "model_args.train_batch_size = 16\n",
        "model_args.evaluate_during_training = True\n",
        "\n",
        "# model = QuestionAnsweringModel(\n",
        "#     \"roberta\", \"roberta-base\", args=model_args\n",
        "# )\n",
        "\n",
        "model = QuestionAnsweringModel(\n",
        "    \"roberta\", \"IIC/roberta-base-spanish-sqac\" , args=model_args\n",
        ")\n"
      ],
      "metadata": {
        "id": "JA9iUihPxTx4"
      },
      "execution_count": null,
      "outputs": []
    },
    {
      "cell_type": "code",
      "source": [
        "# Train the model\n",
        "model.train_model(train_data, eval_data=eval_data)"
      ],
      "metadata": {
        "id": "q0Ab9GFjxay3"
      },
      "execution_count": null,
      "outputs": []
    },
    {
      "cell_type": "code",
      "source": [
        "# Evaluate the model\n",
        "result, texts = model.eval_model(eval_data)"
      ],
      "metadata": {
        "id": "iP06A9Z-xcpX"
      },
      "execution_count": null,
      "outputs": []
    },
    {
      "cell_type": "code",
      "source": [
        "# Make predictions with the model\n",
        "to_predict = [\n",
        "    {\n",
        "        \"context\":\" Derecho a solicitar protección internacional.\\n\\n1. Las personas nacionales no comunitarias y las apátridas presentes en territorio español tienen derecho a solicitar protección internacional en España.\\n\\n2. Para su ejercicio, los solicitantes de protección internacional tendrán derecho a asistencia sanitaria y a asistencia jurídica gratuita, que se extenderá a la formalización de la solicitud y a toda la tramitación del procedimiento, y que se prestará en los términos previstos en la legislación española en esta materia, así como derecho a intérprete en los términos del artículo 22 de la Ley Orgánica 4/2000.\\n\\nLa asistencia jurídica referida en el párrafo anterior será preceptiva cuando las solicitudes se formalicen de acuerdo al procedimiento señalado en el artículo 21 de la presente Ley.\\n\\n3. La presentación de la solicitud conllevará la valoración de las circunstancias determinantes del reconocimiento de la condición de refugiado, así como de la concesión de la protección subsidiaria. De este extremo se informará en debida forma al solicitante.\\n\\n4. Toda información relativa al procedimiento, incluido el hecho de la presentación de la solicitud, tendrá carácter confidencial.\",\n",
        "         \n",
        "        \"qas\": [\n",
        "            {\n",
        "                \"question\": \"¿Puedo solicitar traductor?\",\n",
        "                \"id\": \"0\",\n",
        "            }\n",
        "        ],\n",
        "    }\n",
        "]\n",
        "\n",
        "answers, probabilities = model.predict(to_predict)\n",
        "\n",
        "print(answers)"
      ],
      "metadata": {
        "id": "XUgg3_6_xrTS"
      },
      "execution_count": null,
      "outputs": []
    },
    {
      "cell_type": "code",
      "source": [
        "print(answers)"
      ],
      "metadata": {
        "id": "m8ToMS1wMkD9"
      },
      "execution_count": null,
      "outputs": []
    },
    {
      "cell_type": "code",
      "source": [
        "# Make predictions with the model\n",
        "to_predict = [\n",
        "    {\n",
        "        \"context\": \"Las subvenciones concedidas a las ONG para la acogida y la integración de quienes conforman estos colectivos están financiadas con fondos que provienen de los presupuestos de la Secretaría General de Inmigración y Emigración, recibiendo cofinanciación, en algunos programas, del Fondo Social Europeo y del Fondo de Asilo, Migración e Integración.\",\n",
        "        \"qas\": [\n",
        "            {\n",
        "                \"question\": \"donde solicito las subenciones?\",\n",
        "                \"id\": \"0\",\n",
        "            }\n",
        "        ],\n",
        "    }\n",
        "]\n",
        "\n",
        "answers, probabilities = model.predict(to_predict)\n",
        "\n",
        "print(answers)"
      ],
      "metadata": {
        "id": "axtJ0Jh8LxZ3"
      },
      "execution_count": null,
      "outputs": []
    },
    {
      "cell_type": "markdown",
      "source": [
        "Ojo, si ejecuta dos veces da error por los datos guardado"
      ],
      "metadata": {
        "id": "7pn5IWfHr4ed"
      }
    },
    {
      "cell_type": "markdown",
      "source": [
        "Este modelo simple esta hecho con Roberta en ingles, mas adelante se puede probar en Bert."
      ],
      "metadata": {
        "id": "GRRE9Rx1vl-h"
      }
    }
  ]
}