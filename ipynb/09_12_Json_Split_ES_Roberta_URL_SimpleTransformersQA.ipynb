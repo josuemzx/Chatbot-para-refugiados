{
  "nbformat": 4,
  "nbformat_minor": 0,
  "metadata": {
    "colab": {
      "provenance": [],
      "private_outputs": true
    },
    "kernelspec": {
      "name": "python3",
      "display_name": "Python 3"
    },
    "language_info": {
      "name": "python"
    },
    "accelerator": "GPU",
    "gpuClass": "standard"
  },
  "cells": [
    {
      "cell_type": "markdown",
      "source": [
        "https://simpletransformers.ai/docs/qa-minimal-start/ (Explicativo de web)\n"
      ],
      "metadata": {
        "id": "87TEJpP9ZEn_"
      }
    },
    {
      "cell_type": "markdown",
      "source": [],
      "metadata": {
        "id": "bMljOPrRwRtg"
      }
    },
    {
      "cell_type": "code",
      "execution_count": null,
      "metadata": {
        "id": "ksnzQFp6wLtR"
      },
      "outputs": [],
      "source": [
        "!pip install -Uq wandb"
      ]
    },
    {
      "cell_type": "code",
      "source": [
        "import wandb\n",
        "\n",
        "# wandb.login()\n",
        "wandb_project = \"SimpleTransformers-QA\""
      ],
      "metadata": {
        "id": "oFkuUIhKwYmH"
      },
      "execution_count": null,
      "outputs": []
    },
    {
      "cell_type": "code",
      "source": [
        "%%capture\n",
        "!pip install simpletransformers"
      ],
      "metadata": {
        "id": "RmamGZr8wave"
      },
      "execution_count": null,
      "outputs": []
    },
    {
      "cell_type": "code",
      "source": [
        "\n",
        "\n",
        "import os\n",
        "import requests\n",
        "import json\n",
        "\n"
      ],
      "metadata": {
        "id": "7RCw_GfeFaOU"
      },
      "execution_count": null,
      "outputs": []
    },
    {
      "cell_type": "code",
      "source": [
        "import logging\n",
        "\n",
        "from simpletransformers.question_answering import QuestionAnsweringModel, QuestionAnsweringArgs"
      ],
      "metadata": {
        "id": "HDWcaDdFwwtv"
      },
      "execution_count": null,
      "outputs": []
    },
    {
      "cell_type": "code",
      "source": [
        "logging.basicConfig(level=logging.INFO)\n",
        "transformers_logger = logging.getLogger(\"transformers\")\n",
        "transformers_logger.setLevel(logging.WARNING)\n"
      ],
      "metadata": {
        "id": "2hV9_MSNhWBj"
      },
      "execution_count": null,
      "outputs": []
    },
    {
      "cell_type": "code",
      "source": [
        "# # import modules\n",
        "# import pandas as pd\n",
        "# from sklearn.linear_model import LinearRegression\n",
        "# from sklearn.model_selection import train_test_split\n",
        "\n",
        "# # read the dataset\n",
        "# df = pd.read_csv('https://raw.githubusercontent.com/josuemzx/Chatbot-para-refugiados/main/data/Dataset%20propio/data.csv')\n",
        "\n",
        "# # get the locations\n",
        "# X = df.iloc[:, :-1]\n",
        "# y = df.iloc[:, -1]\n",
        "\n",
        "# # split the dataset\n",
        "# X_train, X_eval, y_train, y_eval = train_test_split(X, y, test_size=0.3, random_state=42)\n",
        "\n"
      ],
      "metadata": {
        "id": "xbF-A4U-WuEn"
      },
      "execution_count": null,
      "outputs": []
    },
    {
      "cell_type": "code",
      "source": [
        "# # import modules\n",
        "# import pandas as pd\n",
        "# from sklearn.linear_model import LinearRegression\n",
        "# from sklearn.model_selection import train_test_split\n",
        "\n",
        "# # read the dataset\n",
        "# df = pd.read_csv('https://raw.githubusercontent.com/josuemzx/Chatbot-para-refugiados/main/data/Dataset%20propio/data.csv')\n",
        "\n",
        "# # Divide el DataFrame en conjuntos de entrenamiento y evaluación\n",
        "# df_train, df_eval = train_test_split(df, test_size=0.2, random_state=42)\n",
        "\n",
        "\n",
        "\n",
        "# X_train = df_train[\"question\"]\n",
        "# y_train = df_train[\"question\"]\n",
        "# X_eval = df_eval[\"text\"]\n",
        "# y_eval = df_eval[\"text\"]\n",
        "\n"
      ],
      "metadata": {
        "id": "V6a6J3gGA_Mk"
      },
      "execution_count": null,
      "outputs": []
    },
    {
      "cell_type": "code",
      "source": [
        "import pandas as pd\n",
        "from sklearn.model_selection import train_test_split\n",
        "\n",
        "# Carga el dataset en un DataFrame de pandas\n",
        "df = pd.read_json(\"https://raw.githubusercontent.com/josuemzx/Chatbot-para-refugiados/main/data/Dataset%20propio/data.json\")\n",
        "\n",
        "# Divide el DataFrame en conjuntos de entrenamiento y evaluación\n",
        "df_train, df_eval = train_test_split(df, test_size=0.2, random_state=42)\n",
        "\n",
        "# Define los conjuntos de entrada y salida para el entrenamiento y la evaluación\n",
        "X_train = df_train[\"data\"]\n",
        "X_train = [item for topic in df_train[\"data\"] for item in topic['paragraphs'] ]\n",
        "y_train = df_train[\"data\"]\n",
        "y_train = [item for topic in df_train[\"data\"] for item in topic['paragraphs'] ]\n",
        "X_eval = df_eval[\"data\"]\n",
        "X_eval = [item for topic in df_eval[\"data\"] for item in topic['paragraphs'] ]\n",
        "y_eval = df_eval[\"data\"]\n",
        "y_eval = [item for topic in df_eval[\"data\"] for item in topic['paragraphs'] ]"
      ],
      "metadata": {
        "id": "ZVJ1YBgM3TYb"
      },
      "execution_count": null,
      "outputs": []
    },
    {
      "cell_type": "code",
      "source": [
        "df_train['data']"
      ],
      "metadata": {
        "id": "S1TSLycJ4jD0"
      },
      "execution_count": null,
      "outputs": []
    },
    {
      "cell_type": "code",
      "source": [
        "df.head(3)"
      ],
      "metadata": {
        "id": "ImovEs2ry3Em"
      },
      "execution_count": null,
      "outputs": []
    },
    {
      "cell_type": "code",
      "source": [
        "# import pandas as pd\n",
        "# from sklearn.model_selection import train_test_split\n",
        "\n",
        "# # load the data from the JSON file into a Pandas dataframe\n",
        "# df = pd.read_json(\"https://raw.githubusercontent.com/josuemzx/Chatbot-para-refugiados/main/data/Dataset%20propio/data.json\")\n",
        "\n",
        "# # get the features and labels\n",
        "# X = df.drop(\"label\", axis=1)\n",
        "# y = df[\"label\"]\n",
        "\n",
        "# # split the dataset into training and evaluation data\n",
        "# X_train, X_eval, y_train, y_eval = train_test_split(X, y, test_size=0.3, random_state=42)"
      ],
      "metadata": {
        "id": "yboNUAlJyCpN"
      },
      "execution_count": null,
      "outputs": []
    },
    {
      "cell_type": "code",
      "source": [
        "# Configure the model\n",
        "model_args = QuestionAnsweringArgs(output_dir=\" train5\")\n",
        "model_args.train_batch_size = 16\n",
        "model_args.evaluate_during_training = True\n",
        "\n",
        "# model = QuestionAnsweringModel(\n",
        "#     \"roberta\", \"roberta-base\", args=model_args\n",
        "# )\n",
        "\n",
        "model = QuestionAnsweringModel(\n",
        "    \"roberta\", \"IIC/roberta-base-spanish-sqac\" , args=model_args\n",
        ")\n"
      ],
      "metadata": {
        "id": "JA9iUihPxTx4"
      },
      "execution_count": null,
      "outputs": []
    },
    {
      "cell_type": "code",
      "source": [
        "# model.train_model(X_train, y_train, eval_data=(X_eval, y_eval)) No funciona!"
      ],
      "metadata": {
        "id": "gfx6Vc8OGS33"
      },
      "execution_count": null,
      "outputs": []
    },
    {
      "cell_type": "code",
      "source": [
        "# Train the model\n",
        "model.train_model(X_train ,  eval_data= y_eval)"
      ],
      "metadata": {
        "id": "q0Ab9GFjxay3"
      },
      "execution_count": null,
      "outputs": []
    },
    {
      "cell_type": "code",
      "source": [
        "# Evaluate the model\n",
        "result, texts = model.eval_model(y_eval)"
      ],
      "metadata": {
        "id": "iP06A9Z-xcpX"
      },
      "execution_count": null,
      "outputs": []
    },
    {
      "cell_type": "code",
      "source": [
        "# Make predictions with the model\n",
        "to_predict = [\n",
        "    {\n",
        "        \"context\":\" Derecho a solicitar protección internacional.\\n\\n1. Las personas nacionales no comunitarias y las apátridas presentes en territorio español tienen derecho a solicitar protección internacional en España.\\n\\n2. Para su ejercicio, los solicitantes de protección internacional tendrán derecho a asistencia sanitaria y a asistencia jurídica gratuita, que se extenderá a la formalización de la solicitud y a toda la tramitación del procedimiento, y que se prestará en los términos previstos en la legislación española en esta materia, así como derecho a intérprete en los términos del artículo 22 de la Ley Orgánica 4/2000.\\n\\nLa asistencia jurídica referida en el párrafo anterior será preceptiva cuando las solicitudes se formalicen de acuerdo al procedimiento señalado en el artículo 21 de la presente Ley.\\n\\n3. La presentación de la solicitud conllevará la valoración de las circunstancias determinantes del reconocimiento de la condición de refugiado, así como de la concesión de la protección subsidiaria. De este extremo se informará en debida forma al solicitante.\\n\\n4. Toda información relativa al procedimiento, incluido el hecho de la presentación de la solicitud, tendrá carácter confidencial.\",\n",
        "         \n",
        "        \"qas\": [\n",
        "            {\n",
        "                \"question\": \"¿Puedo solicitar traductor?\",\n",
        "                \"id\": \"0\",\n",
        "            }\n",
        "        ],\n",
        "    }\n",
        "]\n",
        "\n",
        "answers, probabilities = model.predict(to_predict)\n",
        "\n",
        "print(answers)"
      ],
      "metadata": {
        "id": "XUgg3_6_xrTS"
      },
      "execution_count": null,
      "outputs": []
    },
    {
      "cell_type": "code",
      "source": [
        "# Make predictions with the model\n",
        "to_predict = [\n",
        "    {\n",
        "        \"context\": \"Las subvenciones concedidas a las ONG para la acogida y la integración de quienes conforman estos colectivos están financiadas con fondos que provienen de los presupuestos de la Secretaría General de Inmigración y Emigración, recibiendo cofinanciación, en algunos programas, del Fondo Social Europeo y del Fondo de Asilo, Migración e Integración.\",\n",
        "        \"qas\": [\n",
        "            {\n",
        "                \"question\": \"donde solicito las subenciones?\",\n",
        "                \"id\": \"0\",\n",
        "            }\n",
        "        ],\n",
        "    }\n",
        "]\n",
        "\n",
        "answers, probabilities = model.predict(to_predict)\n",
        "\n",
        "print(answers)"
      ],
      "metadata": {
        "id": "axtJ0Jh8LxZ3"
      },
      "execution_count": null,
      "outputs": []
    },
    {
      "cell_type": "markdown",
      "source": [
        "Ojo, si ejecuta dos veces da error por los datos guardado"
      ],
      "metadata": {
        "id": "7pn5IWfHr4ed"
      }
    }
  ]
}